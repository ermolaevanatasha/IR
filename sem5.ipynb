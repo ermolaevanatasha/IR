{
 "cells": [
  {
   "cell_type": "markdown",
   "metadata": {},
   "source": [
    "# Семинар 5    \n",
    "## Собираем поисковик \n",
    "\n",
    "![](https://bilimfili.com/wp-content/uploads/2017/06/bir-urune-emek-vermek-o-urune-olan-deger-algimizi-degistirir-mi-bilimfilicom.jpg) \n",
    "\n",
    "\n",
    "Мы уже все знаем, для того чтобы сделать поисковик. Осталось соединить все части вместе.    \n",
    "Итак, для поисковика нам понадобятся:         \n",
    "**1. База документов **\n",
    "> в первом дз - корпус Друзей    \n",
    "в сегодняшнем дз - корпус юридических вопросов-ответов    \n",
    "в итоговом проекте - корпус Авито   \n",
    "\n",
    "**2. Функция индексации**                 \n",
    "Что делает: собирает информацию о корпусе, по которуму будет происходить поиск      \n",
    "Своя для каждого поискового метода:       \n",
    "> A. для обратного индекса она создает обратный индекс (чудо) и сохраняет статистики корпуса, необходимые для Okapi BM25 (средняя длина документа в коллекции, количество доков ... )             \n",
    "> B. для поиска через word2vec эта функция создает вектор для каждого документа в коллекции путем, например, усреднения всех векторов коллекции       \n",
    "> C. для поиска через doc2vec эта функция создает вектор для каждого документа               \n",
    "\n",
    "   Не забывайте сохранить все, что насчитает эта функция. Если это будет происходить налету во время поиска, понятно, что он будет работать сто лет     \n",
    "   \n",
    "**3. Функция поиска**     \n",
    "Можно разделить на две части:\n",
    "1. функция вычисления близости между запросом и документом    \n",
    "> 1. для индекса это Okapi BM25\n",
    "> 2. для w2v и d2v это обычная косинусная близость между векторами          \n",
    "2. ранжирование (или просто сортировка)\n",
    "\n",
    "\n",
    "Время все это реализовать."
   ]
  },
  {
   "cell_type": "code",
   "execution_count": 466,
   "metadata": {
    "collapsed": true
   },
   "outputs": [],
   "source": [
    "import os\n",
    "import json\n",
    "from tqdm import tqdm_notebook\n",
    "import string\n",
    "from nltk.corpus import stopwords\n",
    "from nltk.tokenize import word_tokenize\n",
    "from pymystem3 import Mystem\n",
    "import pickle"
   ]
  },
  {
   "cell_type": "code",
   "execution_count": 467,
   "metadata": {
    "collapsed": true
   },
   "outputs": [],
   "source": [
    "import warnings\n",
    "warnings.filterwarnings('ignore')"
   ]
  },
  {
   "cell_type": "markdown",
   "metadata": {},
   "source": [
    "# Индексация\n",
    "## Word2Vec\n",
    "### Задание 1\n",
    "Загрузите любую понравившуюся вам word2vec модель"
   ]
  },
  {
   "cell_type": "code",
   "execution_count": 468,
   "metadata": {
    "collapsed": true
   },
   "outputs": [],
   "source": [
    "from gensim.models import Word2Vec"
   ]
  },
  {
   "cell_type": "code",
   "execution_count": 469,
   "metadata": {
    "collapsed": true
   },
   "outputs": [],
   "source": [
    "model_path = 'araneum_none_fasttextcbow_300_5_2018.model'\n",
    "w2v_model = Word2Vec.load(model_path)"
   ]
  },
  {
   "cell_type": "markdown",
   "metadata": {},
   "source": [
    "### Задание 2 \n",
    "Напишите функцию индексации для поиска через word2vec. Она должна для каждого документа из корпуса строить вектор.   \n",
    "Все вектора надо сохранить, по формату советую json. При сохранении не забывайте, что вам надо сохранить не только  вектор, но и опознователь текста, которому он принадлежит. \n",
    "Для поисковика это может быть url страницы, для поиска по текстовому корпусу сам текст.\n",
    "\n",
    "> В качестве документа для word2vec берите **параграфы** исходного текста, а не весь текст целиком. Так вектора будут более осмысленными. В противном случае можно получить один очень общий вектор, релевантый совершенно разным запросам."
   ]
  },
  {
   "cell_type": "code",
   "execution_count": 470,
   "metadata": {
    "collapsed": true
   },
   "outputs": [],
   "source": [
    "from judicial_splitter import splitter"
   ]
  },
  {
   "cell_type": "code",
   "execution_count": 471,
   "metadata": {
    "collapsed": true
   },
   "outputs": [],
   "source": [
    "articles = os.listdir('article')[:1000]\n",
    "articles = ['article' + os.sep + article for article in articles]"
   ]
  },
  {
   "cell_type": "code",
   "execution_count": 472,
   "metadata": {
    "collapsed": true
   },
   "outputs": [],
   "source": [
    "mystem = Mystem()"
   ]
  },
  {
   "cell_type": "code",
   "execution_count": 473,
   "metadata": {
    "collapsed": true
   },
   "outputs": [],
   "source": [
    "def preprocessing(input_text, del_stopwords=True, del_digit=True):\n",
    "    \"\"\"\n",
    "    :input: raw text\n",
    "        1. lowercase, del punctuation, tokenize\n",
    "        2. normal form\n",
    "        3. del stopwords\n",
    "        4. del digits\n",
    "    :return: lemmas\n",
    "    \"\"\"\n",
    "    russian_stopwords = set(stopwords.words('russian'))\n",
    "    words = [x.lower().strip(string.punctuation + '»«–…') for x in word_tokenize(input_text)]\n",
    "    lemmas = [mystem.lemmatize(x)[0] for x in words if x]\n",
    "\n",
    "    lemmas_arr = []\n",
    "    for lemma in lemmas:\n",
    "        if del_stopwords:\n",
    "            if lemma in russian_stopwords:\n",
    "                continue\n",
    "        if del_digit:\n",
    "            if lemma.isdigit():\n",
    "                continue\n",
    "        lemmas_arr.append(lemma)\n",
    "        \n",
    "    return lemmas_arr"
   ]
  },
  {
   "cell_type": "code",
   "execution_count": 474,
   "metadata": {
    "collapsed": true
   },
   "outputs": [],
   "source": [
    "def write_data(filename, data):\n",
    "    with open(filename, 'w') as fout:\n",
    "        json.dump(data, fout)"
   ]
  },
  {
   "cell_type": "code",
   "execution_count": 475,
   "metadata": {
    "collapsed": true
   },
   "outputs": [],
   "source": [
    "# def split_w2v(articles):\n",
    "#     article_text = {}\n",
    "#     w2v_paragraphs = []\n",
    "    \n",
    "#     for article in tqdm_notebook(articles):\n",
    "#         with open(article, 'r', encoding='utf-8') as f:\n",
    "#             f = f.read()\n",
    "#             article_text[article] = f\n",
    "#             splitted_text = splitter(f, 1)\n",
    "# #             print(splitted_text)\n",
    "            \n",
    "#             for text in splitted_text:\n",
    "#                 lemmas = preprocessing(text)\n",
    "#                 w2v_paragraphs.append({'article_text': f, 'article_lemmas': lemmas})\n",
    "                \n",
    "#     return article_text, w2v_paragraphs"
   ]
  },
  {
   "cell_type": "code",
   "execution_count": 476,
   "metadata": {},
   "outputs": [],
   "source": [
    "# w2v_a, w2v_p = split_w2v(articles)"
   ]
  },
  {
   "cell_type": "code",
   "execution_count": 477,
   "metadata": {
    "collapsed": true
   },
   "outputs": [],
   "source": [
    "def get_w2v_vectors(model, input_data):\n",
    "    \"\"\"Получает вектор документа\"\"\"\n",
    "    vectors = []\n",
    "    \n",
    "    for input_d in input_data:\n",
    "        try:\n",
    "            vector = model.wv[input_d]\n",
    "            vectors.append(vector)\n",
    "        except KeyError as e:\n",
    "#             print('KeyError - reason %s' % str(e))\n",
    "            continue\n",
    "    mean = sum(vectors) / len(vectors)        \n",
    "    \n",
    "    return mean"
   ]
  },
  {
   "cell_type": "code",
   "execution_count": 478,
   "metadata": {
    "collapsed": true
   },
   "outputs": [],
   "source": [
    "# def save_w2v_base(w2v_data):\n",
    "#     \"\"\"Индексирует всю базу для поиска через word2vec\"\"\"\n",
    "#     w2v_result = []\n",
    "#     article_vector = {}\n",
    "    \n",
    "#     for dictionary in tqdm_notebook(w2v_data):\n",
    "#         w2v_vectors = get_w2v_vectors(w2v_model, dictionary['article_lemmas'])\n",
    "#         article_vector = {'article_text': dictionary['article_text'], 'w2v_vectors': w2v_vectors.tolist()}\n",
    "#         w2v_result.append(article_vector)\n",
    "    \n",
    "#     return w2v_result"
   ]
  },
  {
   "cell_type": "code",
   "execution_count": 479,
   "metadata": {
    "collapsed": true
   },
   "outputs": [],
   "source": [
    "# w2v_res = save_w2v_base(w2v_p)"
   ]
  },
  {
   "cell_type": "code",
   "execution_count": 480,
   "metadata": {
    "collapsed": true
   },
   "outputs": [],
   "source": [
    "def save_w2v_base(articles):\n",
    "    \"\"\"Индексирует всю базу для поиска через word2vec\"\"\"\n",
    "    w2v_result = []\n",
    "    article_vector = {}\n",
    "    \n",
    "    for article in tqdm_notebook(articles):\n",
    "        with open(article, 'r', encoding='utf-8') as f:\n",
    "            f = f.read()\n",
    "            lemmas = preprocessing(f)\n",
    "            w2v_vectors = get_w2v_vectors(w2v_model, lemmas)\n",
    "            \n",
    "            article_vector = {'article_text': f, 'w2v_vectors': w2v_vectors.tolist()}\n",
    "            w2v_result.append(article_vector)\n",
    "    \n",
    "    return w2v_result"
   ]
  },
  {
   "cell_type": "code",
   "execution_count": 481,
   "metadata": {},
   "outputs": [
    {
     "data": {
      "application/vnd.jupyter.widget-view+json": {
       "model_id": "78976d38295b4239946e0d23504d54f2",
       "version_major": 2,
       "version_minor": 0
      },
      "text/plain": [
       "A Jupyter Widget"
      ]
     },
     "metadata": {},
     "output_type": "display_data"
    }
   ],
   "source": [
    "w2v_res = save_w2v_base(articles)"
   ]
  },
  {
   "cell_type": "code",
   "execution_count": 482,
   "metadata": {
    "collapsed": true
   },
   "outputs": [],
   "source": [
    "write_data('Word2Vec', w2v_res)"
   ]
  },
  {
   "cell_type": "code",
   "execution_count": 526,
   "metadata": {},
   "outputs": [
    {
     "data": {
      "application/vnd.jupyter.widget-view+json": {
       "model_id": "4685763db15848d4936ca740884f69cc",
       "version_major": 2,
       "version_minor": 0
      },
      "text/plain": [
       "A Jupyter Widget"
      ]
     },
     "metadata": {},
     "output_type": "display_data"
    }
   ],
   "source": [
    "name_text = {}\n",
    "for article in tqdm_notebook(articles):\n",
    "    with open(article, 'r', encoding='utf-8') as fr:\n",
    "        fr = fr.read()\n",
    "        name_text[article] = fr"
   ]
  },
  {
   "cell_type": "markdown",
   "metadata": {},
   "source": [
    "## Doc2Vec\n",
    "### Задание 3\n",
    "Напишите функцию обучения doc2vec на юридических текстах, и получите свою кастомную d2v модель. \n",
    "> Совет: есть мнение, что для обучения doc2vec модели не нужно удалять стоп-слова из корпуса. Они являются важными семантическими элементами.      \n",
    "\n",
    "Важно! В качестве документа для doc2vec берите **параграфы** исходного текста, а не весь текст целиком. И не забывайте про предобработку."
   ]
  },
  {
   "cell_type": "code",
   "execution_count": 484,
   "metadata": {
    "collapsed": true
   },
   "outputs": [],
   "source": [
    "from gensim.models.doc2vec import Doc2Vec, TaggedDocument"
   ]
  },
  {
   "cell_type": "code",
   "execution_count": 485,
   "metadata": {
    "collapsed": true
   },
   "outputs": [],
   "source": [
    "def split_d2v(articles):\n",
    "    article_text = {}\n",
    "    d2v_paragraphs = []\n",
    "    \n",
    "    for article in tqdm_notebook(articles):\n",
    "        with open(article, 'r', encoding='utf-8') as f:\n",
    "            f = f.read()\n",
    "            article_text[article] = f\n",
    "            splitted_text = splitter(f, 4)\n",
    "            \n",
    "            for text in splitted_text:\n",
    "                lemmas = preprocessing(text, del_stopwords=False)\n",
    "                d2v_paragraphs.append({'article_text': f, 'article_lemmas': lemmas})\n",
    "    \n",
    "    return article_text, d2v_paragraphs"
   ]
  },
  {
   "cell_type": "code",
   "execution_count": 486,
   "metadata": {},
   "outputs": [
    {
     "data": {
      "application/vnd.jupyter.widget-view+json": {
       "model_id": "e48a374d72674adeadc8dfab8c27bf84",
       "version_major": 2,
       "version_minor": 0
      },
      "text/plain": [
       "A Jupyter Widget"
      ]
     },
     "metadata": {},
     "output_type": "display_data"
    }
   ],
   "source": [
    "d2v_a, d2v_p = split_d2v(articles)"
   ]
  },
  {
   "cell_type": "code",
   "execution_count": 487,
   "metadata": {
    "collapsed": true
   },
   "outputs": [],
   "source": [
    "def train_doc2vec(input_data):\n",
    "    d2v_data = [TaggedDocument(words=j['article_lemmas'], tags=[str(i)])for i, j in enumerate(input_data)]\n",
    "\n",
    "    model = Doc2Vec(vector_size=300, alpha=0.025, min_alpha=0.025, min_count=0, workers=4, epochs=100)\n",
    "    model.build_vocab(d2v_data)\n",
    "    model.train(d2v_data, total_examples=model.corpus_count, epochs=model.epochs)\n",
    "    \n",
    "    return model"
   ]
  },
  {
   "cell_type": "code",
   "execution_count": 488,
   "metadata": {
    "collapsed": true
   },
   "outputs": [],
   "source": [
    "d2v_model = train_doc2vec(d2v_p)"
   ]
  },
  {
   "cell_type": "markdown",
   "metadata": {},
   "source": [
    "### Задание 4\n",
    "Напишите функцию индексации для поиска через doc2vec. Она должна для каждого документа из корпуса получать вектор.    \n",
    "Все вектора надо сохранить, по формату советую json. При сохранении не забывайте, что вам надо сохранить не только вектор, но и опознователь текста, которому он принадлежит. "
   ]
  },
  {
   "cell_type": "code",
   "execution_count": 489,
   "metadata": {
    "collapsed": true
   },
   "outputs": [],
   "source": [
    "def get_d2v_vectors(model, input_data):\n",
    "    \"\"\"Получает вектор документа\"\"\"\n",
    "    d2v_vectors = model.infer_vector(input_data)\n",
    "    \n",
    "    return d2v_vectors"
   ]
  },
  {
   "cell_type": "code",
   "execution_count": 490,
   "metadata": {
    "collapsed": true
   },
   "outputs": [],
   "source": [
    "def save_d2v_base(d2v_data):\n",
    "    \"\"\"Индексирует всю базу для поиска через word2vec\"\"\"\n",
    "    d2v_result = []\n",
    "    article_vector = {}\n",
    "    \n",
    "    for dictionary in tqdm_notebook(d2v_data):\n",
    "        d2v_vectors = get_d2v_vectors(d2v_model, dictionary['article_lemmas'])\n",
    "        article_vector = {'article_text': dictionary['article_text'], 'd2v_vectors': d2v_vectors.tolist()}\n",
    "        d2v_result.append(article_vector)\n",
    "    \n",
    "    return d2v_result"
   ]
  },
  {
   "cell_type": "code",
   "execution_count": 491,
   "metadata": {},
   "outputs": [
    {
     "data": {
      "application/vnd.jupyter.widget-view+json": {
       "model_id": "1f1ac7159a194ac09b28a1066873ea0c",
       "version_major": 2,
       "version_minor": 0
      },
      "text/plain": [
       "A Jupyter Widget"
      ]
     },
     "metadata": {},
     "output_type": "display_data"
    }
   ],
   "source": [
    "d2v_res = save_d2v_base(d2v_p)"
   ]
  },
  {
   "cell_type": "code",
   "execution_count": 492,
   "metadata": {
    "collapsed": true
   },
   "outputs": [],
   "source": [
    "write_data('Doc2Vec', d2v_res)"
   ]
  },
  {
   "cell_type": "markdown",
   "metadata": {},
   "source": [
    "# Функция поиска"
   ]
  },
  {
   "cell_type": "markdown",
   "metadata": {},
   "source": [
    "Для обратного индекса функцией поиска является Okapi BM25. Она у вас уже должна быть реализована."
   ]
  },
  {
   "cell_type": "markdown",
   "metadata": {},
   "source": [
    "Функция измерения близости между векторами нам пригодится:"
   ]
  },
  {
   "cell_type": "code",
   "execution_count": 493,
   "metadata": {
    "collapsed": true
   },
   "outputs": [],
   "source": [
    "from gensim import matutils\n",
    "import numpy as np \n",
    "\n",
    "def similarity(v1, v2):\n",
    "    v1_norm = matutils.unitvec(np.array(v1))\n",
    "    v2_norm = matutils.unitvec(np.array(v2))\n",
    "    return np.dot(v1_norm, v2_norm)"
   ]
  },
  {
   "cell_type": "markdown",
   "metadata": {},
   "source": [
    "### Задание 5\n",
    "Напишите функцию для поиска через word2vec и для поиска через doc2vec, которая по входящему запросу выдает отсортированную выдачу документов."
   ]
  },
  {
   "cell_type": "code",
   "execution_count": 494,
   "metadata": {
    "collapsed": true
   },
   "outputs": [],
   "source": [
    "def search_w2v(query, model, w2v_res, n_results):\n",
    "    result = {}\n",
    "    final_results = []\n",
    "    get_vectors = get_w2v_vectors(w2v_model, query)\n",
    "    for w2v_r in w2v_res:\n",
    "        compare_similarity = similarity(get_vectors, w2v_r['w2v_vectors'])\n",
    "        result[compare_similarity] = w2v_r['article_text']\n",
    "        \n",
    "    for res in sorted(result, reverse=True)[:n_results]:\n",
    "        final_results.append(result[res])\n",
    "        \n",
    "    return final_results"
   ]
  },
  {
   "cell_type": "code",
   "execution_count": 495,
   "metadata": {
    "collapsed": true
   },
   "outputs": [],
   "source": [
    "def search_d2v(query, model, d2v_res, n_results):\n",
    "    result = {}\n",
    "    final_results = []\n",
    "    get_vectors = get_d2v_vectors(d2v_model, query)\n",
    "    for d2v_r in d2v_res:\n",
    "        compare_similarity = similarity(get_vectors, d2v_r['d2v_vectors'])\n",
    "        result[compare_similarity] = d2v_r['article_text']\n",
    "        \n",
    "    for res in sorted(result, reverse=True)[:n_results]:\n",
    "        final_results.append(result[res])\n",
    "        \n",
    "    return final_results"
   ]
  },
  {
   "cell_type": "markdown",
   "metadata": {},
   "source": [
    "### Обратный индекс"
   ]
  },
  {
   "cell_type": "code",
   "execution_count": 496,
   "metadata": {
    "collapsed": true
   },
   "outputs": [],
   "source": [
    "from sklearn.feature_extraction.text import CountVectorizer\n",
    "import pandas as pd"
   ]
  },
  {
   "cell_type": "code",
   "execution_count": 497,
   "metadata": {
    "collapsed": true
   },
   "outputs": [],
   "source": [
    "def prepare_data(articles):\n",
    "    inv_idx_result = []\n",
    "    lengths = {}\n",
    "\n",
    "    for article in tqdm_notebook(articles):\n",
    "        with open(article, 'r', encoding='utf-8') as f:\n",
    "            f = f.read()\n",
    "\n",
    "        article_text = preprocessing(f)\n",
    "        lengths[article] = len(article_text)\n",
    "        inv_idx_result.append(' '.join(article_text))\n",
    "\n",
    "    return inv_idx_result, lengths"
   ]
  },
  {
   "cell_type": "code",
   "execution_count": 498,
   "metadata": {},
   "outputs": [
    {
     "data": {
      "application/vnd.jupyter.widget-view+json": {
       "model_id": "88ad7b5c2705413e840933e15a597cc6",
       "version_major": 2,
       "version_minor": 0
      },
      "text/plain": [
       "A Jupyter Widget"
      ]
     },
     "metadata": {},
     "output_type": "display_data"
    }
   ],
   "source": [
    "inv_idx_res, l = prepare_data(articles)"
   ]
  },
  {
   "cell_type": "code",
   "execution_count": 499,
   "metadata": {
    "collapsed": true
   },
   "outputs": [],
   "source": [
    "avgdl = sum(l.values()) / len(l)"
   ]
  },
  {
   "cell_type": "code",
   "execution_count": 500,
   "metadata": {
    "collapsed": true
   },
   "outputs": [],
   "source": [
    "count_vect = CountVectorizer()\n",
    "X = count_vect.fit_transform(inv_idx_res)\n",
    "term_doc_matrix = pd.DataFrame(X.toarray(), index=articles, columns=count_vect.get_feature_names())"
   ]
  },
  {
   "cell_type": "code",
   "execution_count": 501,
   "metadata": {},
   "outputs": [
    {
     "data": {
      "text/html": [
       "<div>\n",
       "<style>\n",
       "    .dataframe thead tr:only-child th {\n",
       "        text-align: right;\n",
       "    }\n",
       "\n",
       "    .dataframe thead th {\n",
       "        text-align: left;\n",
       "    }\n",
       "\n",
       "    .dataframe tbody tr th {\n",
       "        vertical-align: top;\n",
       "    }\n",
       "</style>\n",
       "<table border=\"1\" class=\"dataframe\">\n",
       "  <thead>\n",
       "    <tr style=\"text-align: right;\">\n",
       "      <th></th>\n",
       "      <th>00</th>\n",
       "      <th>000</th>\n",
       "      <th>01</th>\n",
       "      <th>02</th>\n",
       "      <th>024юл</th>\n",
       "      <th>03</th>\n",
       "      <th>04</th>\n",
       "      <th>05</th>\n",
       "      <th>06</th>\n",
       "      <th>07</th>\n",
       "      <th>...</th>\n",
       "      <th>ясно</th>\n",
       "      <th>ясногорск</th>\n",
       "      <th>ясность</th>\n",
       "      <th>ясный</th>\n",
       "      <th>ячейка</th>\n",
       "      <th>ячея</th>\n",
       "      <th>яшин</th>\n",
       "      <th>ященко</th>\n",
       "      <th>ящик</th>\n",
       "      <th>яя</th>\n",
       "    </tr>\n",
       "  </thead>\n",
       "  <tbody>\n",
       "    <tr>\n",
       "      <th>article/220648.txt</th>\n",
       "      <td>0</td>\n",
       "      <td>0</td>\n",
       "      <td>0</td>\n",
       "      <td>0</td>\n",
       "      <td>0</td>\n",
       "      <td>0</td>\n",
       "      <td>0</td>\n",
       "      <td>0</td>\n",
       "      <td>0</td>\n",
       "      <td>0</td>\n",
       "      <td>...</td>\n",
       "      <td>0</td>\n",
       "      <td>0</td>\n",
       "      <td>0</td>\n",
       "      <td>0</td>\n",
       "      <td>0</td>\n",
       "      <td>0</td>\n",
       "      <td>0</td>\n",
       "      <td>0</td>\n",
       "      <td>0</td>\n",
       "      <td>0</td>\n",
       "    </tr>\n",
       "    <tr>\n",
       "      <th>article/186989.txt</th>\n",
       "      <td>0</td>\n",
       "      <td>0</td>\n",
       "      <td>0</td>\n",
       "      <td>3</td>\n",
       "      <td>0</td>\n",
       "      <td>1</td>\n",
       "      <td>0</td>\n",
       "      <td>1</td>\n",
       "      <td>0</td>\n",
       "      <td>4</td>\n",
       "      <td>...</td>\n",
       "      <td>0</td>\n",
       "      <td>0</td>\n",
       "      <td>0</td>\n",
       "      <td>0</td>\n",
       "      <td>0</td>\n",
       "      <td>0</td>\n",
       "      <td>0</td>\n",
       "      <td>0</td>\n",
       "      <td>0</td>\n",
       "      <td>0</td>\n",
       "    </tr>\n",
       "    <tr>\n",
       "      <th>article/47145.txt</th>\n",
       "      <td>0</td>\n",
       "      <td>0</td>\n",
       "      <td>0</td>\n",
       "      <td>0</td>\n",
       "      <td>0</td>\n",
       "      <td>0</td>\n",
       "      <td>3</td>\n",
       "      <td>0</td>\n",
       "      <td>0</td>\n",
       "      <td>0</td>\n",
       "      <td>...</td>\n",
       "      <td>0</td>\n",
       "      <td>0</td>\n",
       "      <td>0</td>\n",
       "      <td>0</td>\n",
       "      <td>0</td>\n",
       "      <td>0</td>\n",
       "      <td>0</td>\n",
       "      <td>0</td>\n",
       "      <td>0</td>\n",
       "      <td>0</td>\n",
       "    </tr>\n",
       "    <tr>\n",
       "      <th>article/132592.txt</th>\n",
       "      <td>0</td>\n",
       "      <td>0</td>\n",
       "      <td>1</td>\n",
       "      <td>0</td>\n",
       "      <td>0</td>\n",
       "      <td>0</td>\n",
       "      <td>3</td>\n",
       "      <td>0</td>\n",
       "      <td>3</td>\n",
       "      <td>0</td>\n",
       "      <td>...</td>\n",
       "      <td>0</td>\n",
       "      <td>0</td>\n",
       "      <td>0</td>\n",
       "      <td>0</td>\n",
       "      <td>0</td>\n",
       "      <td>0</td>\n",
       "      <td>0</td>\n",
       "      <td>0</td>\n",
       "      <td>0</td>\n",
       "      <td>0</td>\n",
       "    </tr>\n",
       "    <tr>\n",
       "      <th>article/27869.txt</th>\n",
       "      <td>0</td>\n",
       "      <td>0</td>\n",
       "      <td>0</td>\n",
       "      <td>0</td>\n",
       "      <td>0</td>\n",
       "      <td>0</td>\n",
       "      <td>0</td>\n",
       "      <td>0</td>\n",
       "      <td>0</td>\n",
       "      <td>0</td>\n",
       "      <td>...</td>\n",
       "      <td>0</td>\n",
       "      <td>0</td>\n",
       "      <td>0</td>\n",
       "      <td>0</td>\n",
       "      <td>0</td>\n",
       "      <td>0</td>\n",
       "      <td>0</td>\n",
       "      <td>0</td>\n",
       "      <td>0</td>\n",
       "      <td>0</td>\n",
       "    </tr>\n",
       "  </tbody>\n",
       "</table>\n",
       "<p>5 rows × 10344 columns</p>\n",
       "</div>"
      ],
      "text/plain": [
       "                    00  000  01  02  024юл  03  04  05  06  07 ...  ясно  \\\n",
       "article/220648.txt   0    0   0   0      0   0   0   0   0   0 ...     0   \n",
       "article/186989.txt   0    0   0   3      0   1   0   1   0   4 ...     0   \n",
       "article/47145.txt    0    0   0   0      0   0   3   0   0   0 ...     0   \n",
       "article/132592.txt   0    0   1   0      0   0   3   0   3   0 ...     0   \n",
       "article/27869.txt    0    0   0   0      0   0   0   0   0   0 ...     0   \n",
       "\n",
       "                    ясногорск  ясность  ясный  ячейка  ячея  яшин  ященко  \\\n",
       "article/220648.txt          0        0      0       0     0     0       0   \n",
       "article/186989.txt          0        0      0       0     0     0       0   \n",
       "article/47145.txt           0        0      0       0     0     0       0   \n",
       "article/132592.txt          0        0      0       0     0     0       0   \n",
       "article/27869.txt           0        0      0       0     0     0       0   \n",
       "\n",
       "                    ящик  яя  \n",
       "article/220648.txt     0   0  \n",
       "article/186989.txt     0   0  \n",
       "article/47145.txt      0   0  \n",
       "article/132592.txt     0   0  \n",
       "article/27869.txt      0   0  \n",
       "\n",
       "[5 rows x 10344 columns]"
      ]
     },
     "execution_count": 501,
     "metadata": {},
     "output_type": "execute_result"
    }
   ],
   "source": [
    "term_doc_matrix.head()"
   ]
  },
  {
   "cell_type": "code",
   "execution_count": 502,
   "metadata": {
    "collapsed": true
   },
   "outputs": [],
   "source": [
    "def get_inv_idx(term_doc_matrix) -> dict:\n",
    "    \"\"\"\n",
    "    Create inverted index by input doc collection\n",
    "    :return: inverted index\n",
    "    \"\"\"\n",
    "    count_idf = {}\n",
    "    articles = term_doc_matrix.index.tolist()\n",
    "    words = term_doc_matrix.columns.tolist()\n",
    "    freq = term_doc_matrix.values.tolist()\n",
    "    N = len(articles)\n",
    "\n",
    "    for i, j in enumerate(words):\n",
    "        n = 0\n",
    "        for f in freq:\n",
    "            count = f[i]\n",
    "            if count != 0:\n",
    "                n += 1\n",
    "\n",
    "        idf = log((N - n + 0.5) / (n + 0.5))\n",
    "        count_idf[j] = idf\n",
    "    \n",
    "    return count_idf"
   ]
  },
  {
   "cell_type": "code",
   "execution_count": 503,
   "metadata": {
    "collapsed": true
   },
   "outputs": [],
   "source": [
    "c_idf = get_inv_idx(term_doc_matrix)"
   ]
  },
  {
   "cell_type": "code",
   "execution_count": 504,
   "metadata": {
    "collapsed": true
   },
   "outputs": [],
   "source": [
    "from math import log\n",
    "\n",
    "k1 = 2.0\n",
    "b = 0.75\n",
    "\n",
    "def score_BM25(idf, qf, dl, avgdl, k1, b) -> float:\n",
    "    \"\"\"\n",
    "    Compute similarity score between search query and documents from collection\n",
    "    :return: score\n",
    "    \"\"\"\n",
    "    return idf * (k1 + 1) * qf / (qf + k1 * (1 - b + b * dl / avgdl))"
   ]
  },
  {
   "cell_type": "code",
   "execution_count": 505,
   "metadata": {
    "collapsed": true
   },
   "outputs": [],
   "source": [
    "def get_search_result(query, n_results) -> list:\n",
    "    \"\"\"\n",
    "    Compute sim score between search query and all documents in collection\n",
    "    Collect as pair (doc_id, score)\n",
    "    :param query: input text\n",
    "    :return: list of lists with (doc_id, score)\n",
    "    \"\"\"\n",
    "    inv_idx_result = {article: 0 for article in term_doc_matrix.index.tolist()}\n",
    "\n",
    "    for q in query:\n",
    "        if q in term_doc_matrix.columns.tolist():\n",
    "            idx = term_doc_matrix.columns.tolist().index(q)\n",
    "            for i, article in enumerate(term_doc_matrix.index.tolist()):\n",
    "                qf = term_doc_matrix.values.tolist()[i][idx]\n",
    "                dl = l[article]\n",
    "                idf = c_idf[q] \n",
    "                okapi = score_BM25(idf, qf, dl, avgdl, k1, b)\n",
    "                inv_idx_result[article] += okapi\n",
    "            \n",
    "    return sorted(inv_idx_result.items(), key=lambda k: k[1], reverse=True)[:n_results]"
   ]
  },
  {
   "cell_type": "markdown",
   "metadata": {},
   "source": [
    "После выполнения всех этих заданий ваш поисковик готов, поздравляю!                  \n",
    "Осталось завернуть все написанное в питон скрипт, и сделать общую функцию поиска гибким, чтобы мы могли искать как по обратному индексу, так и по word2vec, так и по doc2vec.          \n",
    "Сделать это можно очень просто через старый добрый ``` if ```, который будет дергать ту или иную функцию поиска:"
   ]
  },
  {
   "cell_type": "code",
   "execution_count": 533,
   "metadata": {
    "collapsed": true
   },
   "outputs": [],
   "source": [
    "def search(query, search_method, n_results=5):\n",
    "    if search_method == 'inverted_index':\n",
    "        final = []\n",
    "        query = preprocessing(query)\n",
    "        res_ii = get_search_result(query, n_results)\n",
    "        for f in res_ii:\n",
    "            f = f[0]\n",
    "            final.append(name_text.get(f))\n",
    "            \n",
    "    elif search_method == 'word2vec':\n",
    "        query = preprocessing(query)\n",
    "        final = search_w2v(query, w2v_model, w2v_res, n_results)\n",
    "        \n",
    "    elif search_method == 'doc2vec':\n",
    "        query = preprocessing(query, del_stopwords=False)\n",
    "        final = search_d2v(query, d2v_model, d2v_res, n_results)\n",
    "    \n",
    "    else:\n",
    "        raise TypeError('unsupported search method')\n",
    "        \n",
    "    return final"
   ]
  },
  {
   "cell_type": "code",
   "execution_count": 534,
   "metadata": {},
   "outputs": [
    {
     "data": {
      "text/plain": [
       "['\\n\\nКоллегия судей Высшего Арбитражного Суда Российской Федерации в составе председательствующего судьи Мурина О.Л., судей Зориной М.Г. и Поповченко А.А., рассмотрев в судебном заседании заявление муниципального учреждения \"Служба заказчика жилищно-коммунальных услуг\" (ул.  Смышляева , 25, г. Лысьва, Пермский край, 618900) о пересмотре в порядке надзора постановления Федерального арбитражного суда Уральского округа от 29.05.2007 по делу N А50-17562/2006-А12 Арбитражного  суда Пермской области, установила: муниципальное учреждение \"Служба заказчика жилищно-коммунальных услуг\" обратилось в арбитражный суд с заявлением о признании недействительным решения от 14.07.2006 N 493 Межрайонной инспекции ФНС России N 6 по Пермскому краю (пр.   Победы, 34, г. Лысьва, Пермский край, 618900) об отказе в привлечении налогоплательщика к ответственности за совершение налогового правонарушения (с учетом уточнения предмета требования в порядке статьи 49 Арбитражного процессуального кодекса Российской Федерации). Решением суда первой инстанции от 18.12.2006 требование удовлетворено частично. Оспариваемое решение признано недействительным в части предложения уплатить в срок, указанный в требовании, сумму неуплаченного налога на добавленную стоимость в размере 1612892 руб. В удовлетворении остальной части требования отказано. Постановлением Семнадцатого арбитражного апелляционного суда от 14.02.2007 решение суда первой инстанции оставлено без изменения. Федеральный арбитражный суд Уральского округа постановлением от 29.05.2007 оставил без изменения решение суда первой инстанции и постановление Семнадцатого арбитражного апелляционного суда. В заявлении, поданном в Высший Арбитражный Суд Российской Федерации, учреждение просит отменить постановление суда кассационной инстанции от 29.05.2007. Статьей 304 Арбитражного процессуального кодекса Российской Федерации предусмотрены основания для изменения или отмены в порядке надзора судебных актов, вступивших в законную силу. Рассмотрев материалы дела, истребованные из Арбитражного суда Пермской области и обсудив доводы, изложенные в заявлении, коллегия судей пришла к выводу о том, что дело не подлежит передаче в Президиум Высшего Арбитражного Суда Российской Федерации ввиду отсутствия таких оснований в связи со следующим. Как установлено судами на основе исследования имеющихся в материалах дела доказательств, спор между сторонами возник в связи с выявлением инспекцией в ходе проведения камеральной налоговой проверки налоговой декларации по налогу на добавленную стоимость за март 2006 года факта занижения налоговой базы по указанному налогу на сумму, составляющую часть стоимости жилищно-коммунальных услуг, реализованных отдельным категориям населения по льготным ценам. В рассматриваемом периоде учреждение оказывало потребителям муниципального жилого фонда услуги по обеспечению тепловой энергией, услугами водоснабжения и водоотведения по государственным регулируемым тарифам и, соответственно, обязано было определять налоговую базу как стоимость реализованных жилищно-коммунальных услуг, исчисленную в соответствии с указанными тарифами. Поскольку данные требования закона учреждением выполнены не в полном объеме, суды признали правомерным доначисление налога и произведенное инспекцией определение налоговой базы по налогу на добавленную стоимость как стоимости реализованных товаров (работ, услуг), исчисленной исходя из фактических цен их реализации. Суды отклонили довод учреждения о том, что налоговый орган неправомерно включил в налоговую базу сумму предоставленных гражданам субсидий и льгот по оплату жилищно-коммунальных услуг, как неподтвержденный материалами дела. Как установили суды, в оспариваемом решении инспекции не отражены факты получения заявителем из бюджета субсидий и из него не следует, что основания для принятия решения связаны с субсидиями. Учреждением в марте 2006 года реализованы услуги на спорную сумму, поэтому она подлежит включению в налоговую базу. Выделенные из бюджета субсидии на покрытие убытков производителей реализуемых услуг в налоговую базу не включались ни заявителем, ни налоговым органом. При разрешении спора суды руководствовались положениями статей 40, 46, 143, 146, 154, 167, 173 Налогового кодекса Российской Федерации. Нарушений норм материального и процессуального права не установлено. Оспариваемый судебный акт принят с учетом фактических обстоятельств, установленных судами первой и апелляционной инстанций. Заявителем не представлено доказательств нарушения единообразия в толковании и применении судом норм права. Руководствуясь статьями 299, 301 и 304 Арбитражного процессуального кодекса Российской Федерации, коллегия судей Высшего Арбитражного Суда Российской Федерации определила: в передаче N А50-17562/2006-А12 Арбитражного суда Пермской области в Президиум Высшего Арбитражного Суда Российской Федерации для пересмотра в порядке надзора оспариваемого судебного акта отказать. Председательствующий судья О.Л.МУРИНА Судья М.Г.ЗОРИНА Судья А.А.ПОПОВЧЕНКО',\n",
       " '\\n\\nСудья Высшего Арбитражного Суда Российской Федерации  Подъячев  И.А., рассмотрев заявление ЗАО \"Заречная лесоторговая база\" о пересмотре в порядке надзора решения Арбитражного суда Нижегородской области от 19.10.2009 по делу N А43-23015/2009-42-341 и постановления Федерального арбитражного суда Волго-Вятского округа от 11.01.2010 по тому же делу, установил: заявление подано с соблюдением требований, предусмотренных статьями 292, 294 Арбитражного процессуального кодекса Российской Федерации. Руководствуясь статьей 295 Арбитражного процессуального кодекса Российской Федерации, судья Высшего Арбитражного Суда Российской Федерации определил: 1. Принять заявление ЗАО \"Заречная лесоторговая база\" о пересмотре в порядке надзора решения Арбитражного суда Нижегородской области от 19.10.2009 по делу N А43-23015/2009-42-341 и постановления Федерального арбитражного суда Волго-Вятского округа от 11.01.2010 по тому же делу и возбудить надзорное производство. 2. Направить настоящее определение заявителю. Судья И.А.ПОДЪЯЧЕВ',\n",
       " '\\n\\nNo Президиум Высшего Арбитражного Суда Российской Федерации рассмотрел протест первого заместителя Председателя Высшего Арбитражного Суда Российской Федерации на решение от 25.07.95, постановление апелляционной инстанции от 06.10.95 Арбитражного суда Приморского края по делу  No . 8-210. Заслушав и обсудив доклад судьи, Президиум установил следующее. Страховое акционерное общество \"Ингосстрах\" обратилось в Арбитражный суд Приморского края с иском к акционерному обществу открытого типа \"Владивостокская база тралового и рефрижераторного флота\" о взыскании 2315250,66 доллара США, в том числе: задолженности по уплате страхового взноса по договору страхования судов от 19.01.94 (без номера) в сумме 1620618,48 доллара и по договору от 05.01.95  No . 2-1-1 в сумме 694632,18 доллара США  по состоянию на май 1995 года. Решением от 25.07.95 исковые требования удовлетворены на том основании, что выданный полис является доказательством заключения договора страхования. Поскольку истец выдал полисы, ответчик обязан уплатить страховой взнос. Постановлением апелляционной инстанции от 06.10.95 решение оставлено без изменения. Определением от 30.11.95 изменен способ исполнения решения: взыскание обращено на имущество должника - АООТ \"Владивостокская база тралового и рефрижераторного флота\". В кассационном порядке законность судебных актов не проверялась. В протесте первого заместителя Председателя Высшего Арбитражного Суда Российской Федерации предлагается принятые судебные акты отменить, в иске отказать. Президиум считает, что протест подлежит удовлетворению по следующим основаниям. Из материалов дела следует, что между страховым акционерным обществом \"Ингосстрах\" и акционерным обществом открытого типа \"Владивостокская база тралового и рефрижераторного флота\" в 1994 и 1995 годах заключены два договора страхования судов (каско), содержащие общие условия. Разделом 4 договоров предусмотрена оплата страхователем страховщику премии в течение срока и в порядке, предусмотренном в полисе/счете на оплату премии. Во исполнение этих договоров сторонами в 1994 и 1995 годах заключались договоры страхования конкретных судов на основании письменного заявления страхователя и письменного подтверждения страховщика о принятии судов на страхование с выдачей полисов. Такой порядок заключения договоров страхования предусмотрен параграфом 9 Правил страхования судов и не противоречит Закону Российской Федерации \"О страховании\". Заключая договоры страхования, стороны не определили в них срок внесения страховых взносов конкретно по каждому судну. Из полисов, выданных на страхование конкретных судов в 1994 и 1995 годах, видно, что в большинстве из них не содержится условий о внесении страхового взноса до определенной даты. Согласно статье 23 Закона Российской Федерации \"О страховании\" договор страхования прекращается в случае неуплаты страхователем страховых взносов в установленные договором сроки. Поскольку договоры страхования являются добровольными и в данном случае носят лишь организационный характер, а по выданному на каждое судно полису страховые взносы полностью не были внесены, указанные договоры страхования прекратились. Следовательно, оснований для взыскания страхового взноса в принудительном порядке нет. Учитывая  изложенное  и руководствуясь статьями 187-189 Арбитражного процессуального кодекса Российской Федерации, Президиум Высшего Арбитражного Суда Российской Федерации постановил: решение от 25.07.95 и постановление апелляционной инстанции от 06.10.95 Арбитражного суда Приморского края по делу  No . 8-210 отменить. Страховому акционерному обществу \"Ингосстрах\" в иске отказать. Председатель Высшего Арбитражного Суда Российской Федерации В.Ф.ЯКОВЛЕВ',\n",
       " 'КОНСТИТУЦИОННЫЙ СУД РОССИЙСКОЙ ФЕДЕРАЦИИ\\nОПРЕДЕЛЕНИЕ\\nот 16 июля 2009 г. N 1015-О-О\\nОБ ОТКАЗЕ В ПРИНЯТИИ К РАССМОТРЕНИЮ ЖАЛОБЫ ГРАЖДАНИНА\\nВЛАСОВА АЛЕКСЕЯ ВИКТОРОВИЧА НА НАРУШЕНИЕ ЕГО\\nКОНСТИТУЦИОННЫХ ПРАВ ПОДПУНКТОМ 1 ПУНКТА 1 СТАТЬИ 220\\nНАЛОГОВОГО КОДЕКСА РОССИЙСКОЙ ФЕДЕРАЦИИ\\n\\nКонституционный Суд Российской Федерации в составе Председателя В.Д.  Зорькина , судей Н.С. Бондаря, Г.А. Гаджиева, Ю.М. Данилова, Л.М.  Жарковой , Г.А. Жилина, С.М. Казанцева, М.И.  Клеандрова , С.Д. Князева, А.Л. Кононова, Л.О.  Красавчиковой , С.П. Маврина, Ю.Д.  Рудкина , Н.В. Селезнева, А.Я. Сливы, В.Г.  Стрекозова , О.С. Хохряковой, В. Г. Ярославцева, рассмотрев по требованию гражданина А.В. Власова вопрос о возможности принятия его жалобы к рассмотрению в заседании Конституционного Суда Российской Федерации, установил: 1.  В Конституционный Суд Российской Федерации поступила жалоба гражданина А.В. Власова на нарушение его конституционных прав подпунктом 1 пункта 1 статьи 220 Налогового кодекса Российской Федерации, согласно которому при определении размера налоговой базы в соответствии с пунктом 3 статьи 210 данного Кодекса налогоплательщик имеет право на получение имущественного налогового вычета в сумме, полученной налогоплательщиком в налоговом периоде от продажи жилых   домов, квартир, комнат, включая приватизированные жилые помещения, дач, садовых домиков или земельных участков и долей в указанном имуществе, находившихся в собственности налогоплательщика менее трех лет, но не превышающих в целом 1 000 000 рублей, а также в суммах, полученных в налоговом периоде от продажи иного имущества, находившегося в собственности налогоплательщика менее трех лет, но не превышающих 125 000 рублей;   при продаже жилых домов, квартир, комнат, включая приватизированные жилые помещения, дач, садовых домиков и земельных участков и долей в указанном имуществе, находившихся в собственности налогоплательщика три года и более, а также при продаже иного имущества, находившегося в собственности налогоплательщика три года и более, имущественный налоговый вычет предоставляется в сумме, полученной налогоплательщиком при продаже указанного имущества (абзац первый);  вместо использования права на получение имущественного налогового вычета, предусмотренного настоящим подпунктом, налогоплательщик вправе уменьшить сумму своих облагаемых налогом доходов на сумму фактически произведенных и документально подтвержденных расходов, связанных с получением этих доходов, за исключением реализации налогоплательщиком принадлежащих ему ценных бумаг;  при продаже доли (ее части) в уставном капитале организации, при уступке прав требования по договору участия в долевом строительстве (договору инвестирования долевого строительства или по другому договору, связанному с долевым строительством) налогоплательщик также вправе уменьшить сумму своих облагаемых налогом доходов на сумму фактически произведенных им и документально подтвержденных расходов, связанных с получением этих доходов (абзац второй). Как следует из представленных материалов, в сентябре 2005 года А.В. Власовым были проданы принадлежавшие ему доли в уставном капитале двух обществ с ограниченной ответственностью. В марте 2006 года он подал в инспекцию Федеральной налоговой службы N 27 по городу Москве заявление о предоставлении ему имущественного налогового вычета. Решением от 25 апреля 2006 года налоговый орган отказал в удовлетворении его требования, поскольку доли в уставном капитале обществ с ограниченной ответственностью в силу статьи 38 Налогового кодекса Российской Федерации имуществом не являются. Заявитель обжаловал данное решение в судебном порядке. Разрешая спор и отказывая в удовлетворении заявленных требований, Черемушкинский районный суд города Москвы (заочное решение от 4 июня 2007 года) пришел к выводу о том, что проданные заявителем доли в уставном капитале относятся к имущественным правам и имуществом не являются,  а  следовательно, налоговый орган обоснованно отказал в предоставлении имущественного налогового вычета. Судебная коллегия по гражданским делам Московского городского суда согласилась с указанным выводом суда первой инстанции (определение от 11 декабря 2007 года). В передаче надзорной жалобы для рассмотрения в порядке надзора президиумом Московского городского суда А.В. Власову отказано (определение от 7 апреля 2008 года). По мнению заявителя, оспариваемые положения Налогового кодекса Российской Федерации, не предусматривающие - по смыслу, придаваемому им правоприменительной практикой, - право лица, продавшего долю в уставном капитале общества с ограниченной ответственностью, на имущественный налоговый вычет, противоречат Конституции Российской Федерации, ее статьям 18, 19 (часть 1) и 55 (часть 3). 2. Конституционный Суд Российской Федерации, изучив представленные А.В. Власовым материалы, не находит оснований для принятия его жалобы к рассмотрению. Конституционный Суд Российской Федерации в своих решениях неоднократно указывал, что из взаимосвязанных положений статей 1 (часть 1), 55 (часть 3) и 57 Конституции Российской Федерации следует, что, осуществляя налоговое регулирование и устанавливая в соответствии со статьями 72 (пункт \"и\" части 1), 75 (часть 3) и 76 Конституции Российской Федерации общие принципы налогообложения и сборов, включая исчерпывающий перечень региональных налогов, федеральный   законодатель связан требованиями обеспечения конституционных принципов справедливости и соразмерности в сфере налоговых отношений и вместе с тем располагает достаточной степенью усмотрения при установлении конкретных налогов: он самостоятельно определяет параметры основных элементов налога, в том числе состав налогоплательщиков и объекты налогообложения, виды налоговых ставок, продолжительность налогового периода, стоимостные и (или) количественные показатели, необходимые для определения налоговой базы, порядок исчисления налога (определения  от 14 декабря 2004 года N 451-О, от 23 июня 2005 года N 272-О и др.). Подпунктом 1 пункта 1 статьи 220 Налогового кодекса Российской Федерации закрепляется право налогоплательщика на уменьшение налоговой базы по налогу на доходы физических лиц, которое в зависимости от источника дохода физического лица реализуется или в виде права на имущественный налоговый вычет (при продаже жилых домов, квартир, комнат, включая приватизированные жилые помещения, дач, садовых домиков или земельных участков и долей в указанном   имуществе), или в виде права уменьшить сумму облагаемых налогом доходов на сумму фактически произведенных налогоплательщиком и документально подтвержденных расходов, связанных с получением этих доходов (в том числе при продаже доли (ее части) в уставном капитале организации, при уступке прав требования по договору участия в долевом строительстве (договору инвестирования долевого строительства или по другому договору, связанному с долевым строительством). Таким образом, само по себе установление федеральным законодателем особенностей формирования налоговой базы по налогу на доходы физических лиц в зависимости от источника дохода налогоплательщика относится к дискреционным полномочиям законодателя и не нарушает конституционные права и свободы налогоплательщиков. Фактически же заявитель настаивает на подтверждении Конституционным Судом Российской Федерации его права на имущественный налоговый вычет по налогу на доходы физических лиц. Между тем проверка законности и  обоснованности  вынесенных по делу заявителя судебных решений, как связанная с оценкой фактических обстоятельств, не относится к компетенции Конституционного Суда Российской Федерации (статья 125 Конституции Российской Федерации и статья 3 Федерального конституционного закона \"О Конституционном Суде Российской Федерации\"). Исходя из изложенного и руководствуясь частью второй статьи 40, пунктом 2 части первой статьи 43, частью первой статьи 79, статьями 96 и 97 Федерального конституционного закона \"О Конституционном Суде Российской Федерации\", Конституционный Суд Российской Федерации определил: 1. Отказать в принятии к рассмотрению жалобы гражданина Власова Алексея Викторовича, поскольку она не отвечает требованиям Федерального конституционного закона \"О Конституционном Суде Российской Федерации\", в соответствии с которыми жалоба признается допустимой. 2. Определение Конституционного Суда Российской Федерации по данной жалобе окончательно и обжалованию не подлежит. Председатель Конституционного Суда Российской Федерации В.Д.ЗОРЬКИН',\n",
       " '\\n\\nКоллегия судей Высшего Арбитражного Суда Российской Федерации в составе председательствующего судьи  Першутова  А.Г., судей  Вышняк  Н.Г., Муриной О.Л. рассмотрела в судебном заседании заявление открытого акционерного общества \"Брокерский дом \"ОТКРЫТИЕ\" (пер.  Протопоповский , д. 19, стр. 10, г. Москва, 129010) о пересмотре в порядке надзора решения Арбитражного суда города Москвы от 05.08.2009 по делу N А40-42489/09-151-241, постановления Девятого   арбитражного апелляционного суда от 16.11.2009 и постановления Федерального арбитражного суда Московского округа от 15.03.2010 по тому же делу по заявлению открытого акционерного общества \"Брокерский дом \"ОТКРЫТИЕ\" к Межрайонной инспекции Федеральной налоговой службы N 50 по городу Москве (Походный проезд, владение 3, корпус 2Б, г. Москва, 125373) о признании частично недействительным решения инспекции от 30.12.2008 N 1533. Суд установил: Межрайонной инспекцией Федеральной налоговой службы N 50 по городу Москве (далее - инспекция) проведена выездная налоговая проверка по вопросам правильности исчисления и своевременности уплаты (удержания, перечисления) налогов и сборов за период с 01.01.2005 по 31.12.2007 в отношении открытого акционерного общества \"Брокерский дом \"ОТКРЫТИЕ\" (далее - общество). По результатам проверки составлен акт от 05.12.2008 N 1388 и с учетом представленных налогоплательщиком возражений от 22.12.2008 N 02-13/10552 инспекцией принято решение от 30.12.2008 N 1533 о привлечении общества к налоговой ответственности, предусмотренной пунктом 1 статьи 122 и статьей 123 Налогового кодекса Российской Федерации (далее - Кодекс). Не согласившись с названным решением инспекции в части доначисления 23 003 рублей 63 копеек единого социального налога, 4 456 рублей пеней по нему, 3 632 рублей штрафа за его неуплату, а также 23 508 511 рублей пени по налогу на доходы физических лиц и 14 300 305 рублей штрафа за  неудержание  и  неперечисление  налога на доходы физических лиц, общество обратилось  в арбитражный суд. Решением Арбитражного суда города Москвы от 05.08.2009 в удовлетворении требования общества отказано. Постановлением Девятого арбитражного апелляционного суда от 16.11.2009 решение суда первой инстанции оставлено без изменения. Федеральный арбитражный суд Московского округа постановлением от 15.03.2010 оставил решение суда первой инстанции и постановление суда апелляционной инстанции без изменения. В заявлении, поданном в Высший Арбитражный Суд Российской Федерации, общество просит отменить указанные судебные акты в части эпизодов доначисления единого социального налога в сумме 23 003 рубля 63 копейки, соответствующих пеней и штрафа на суммы компенсационных выплат работникам за причитающийся им ежегодный оплачиваемый отпуск в 28 календарных дней вместо его фактического предоставления, доначисления по налогу на доходы физических лиц пени  в сумме 891 771 рубля и штрафа в сумме 915 292 рубля, а также доначисления пени по налогу на доходы физических лиц в сумме 21 477 549 рублей и штрафа в сумме 13 385 013 рублей, ссылаясь на нарушение единообразия в толковании и применении арбитражными судами норм права. Проверив обоснованность доводов, изложенных в заявлении, коллегия судей считает, что настоящее дело подлежит передаче в Президиум Высшего Арбитражного Суда Российской Федерации для проверки оспариваемых судебных актов в порядке надзора в названной части. Как установлено судами, общество не включало в базу по единому социальному налогу суммы компенсаций, выплаченных работникам за причитающийся им ежегодный оплачиваемый отпуск в 28 календарных дней вместо его фактического предоставления. Отказывая в удовлетворении требования общества в этой части, суды исходили из того, что названный вид компенсаций не предусмотрен положениями статьи 238 Налогового кодекса Российской Федерации, которая устанавливает перечень компенсационных выплат, не подлежащих обложению единым социальным налогом. При этом судами не учтено, что общество не относило сумму указанной компенсации к расходам, уменьшающим налоговую базу по налогу на прибыль организаций. Между тем пунктом 1 статьи 236 Кодекса установлено, что объектом налогообложения единым социальным налогом для налогоплательщиков-организаций признаются выплаты и иные вознаграждения, начисляемые налогоплательщиками в пользу физических лиц по трудовым и гражданско-правовым договорам, предметом которых является выполнение работ, оказание услуг. Согласно пункту 3 статьи 236 Кодекса, указанные в пункте 1 данной статьи вознаграждения не признаются объектом налогообложения, если у налогоплательщика такие выплаты не отнесены к расходам, уменьшающим налоговую базу по налогу на прибыль в текущем налоговом периоде. То есть при определении объекта налогообложения единым социальным налогом нормы пункта 1 статьи 236 Налогового кодекса Российской Федерации применяются с учетом положений пункта 3 этой же статьи. При этом в соответствии с пунктом 8 статьи 255 Кодекса к расходам на оплату труда могут быть отнесены денежные компенсации за неиспользованный отпуск в соответствии с трудовым законодательством Российской Федерации. Согласно статье 126 Трудового кодекса Российской Федерации по письменному заявлению работника часть отпуска, превышающая 28 календарных дней, может быть заменена денежной компенсацией. Суды установили, что компенсация была предоставлена вместо основного отпуска, не превышающего 28 календарных дней, то есть не в соответствии с трудовым законодательством Российской Федерации. Таким образом, компенсации, выплаченные обществом работникам вместо фактического предоставления причитающегося им ежегодного оплачиваемого отпуска в 28 календарных дней, не являются объектом обложения единым социальным налогом, поскольку данные выплаты действующим трудовым законодательством не предусмотрены и не могут быть отнесены к расходам, уменьшающим налоговую базу по налогу на прибыль организаций. Такая позиция, изложена, в частности, в постановлениях Федерального арбитражного суда Московского округа от 16.11.2007 N КА-А40/11799-07 и от 19.12.2008 N КА-А40/11889-08. Отказывая в удовлетворении требования общества о признании недействительным решения инспекции в части привлечения его к ответственности за  неудержание  и  неперечисление  в бюджет налога на доходы физических лиц с доходов физических лиц - клиентов общества по договорам о брокерском обслуживании суды исходили из того, что согласно пункту 8 статьи 214.1 Кодекса (в редакции, действовавшей в спорный период) налоговая база по операциям купли-продажи  ценных бумаг и операциям с финансовыми инструментами срочных сделок определяется по окончании налогового периода. Расчет и уплата суммы налога осуществляется налоговым агентом по окончании налогового периода или при осуществлении им выплаты денежных средств налогоплательщику до истечения очередного налогового периода. Суды установили, что по состоянию на конец налогового периода остаток по кредиту счета 76.9 клиентов позволял обществу полностью или частично удержать налог. При этом судами не учтено следующее. Пункт 4 статьи 226 Кодекса предусматривает обязанность налогового агента удерживать налог непосредственно из доходов налогоплательщика при их фактической выплате. Удержание у налогоплательщика начисленной суммы налога производится налоговым агентом за счет любых денежных средств, выплачиваемых налоговым агентом налогоплательщику, при фактической выплате указанных денежных средств налогоплательщику либо по его поручению третьим лицам. Таким образом, обязанность налогового агента по удержанию налога на доходы физических лиц возникает непосредственно при выплате дохода. Статья 214.1 Кодекса не предусматривает исключений из этого правила. Инспекция не установила по этому эпизоду фактических выплат, произведенных обществом, в том числе со счета 76.9. По эпизоду  неудержания  и  неперечисления  обществом налога на доходы физических лиц с доходов индивидуального предпринимателя Бондарева А.С. (далее - предприниматель) суды обоснованно пришли к выводу, что общество являлось налоговым агентом по налогу на доходы физических лиц с доходов, полученных предпринимателем в рамках договоров брокерского обслуживания.  Поскольку статьей 214.1 Кодекса установлен специальный порядок налогообложения доходов по операциям с ценными бумагами и операциям с финансовыми инструментами срочных сделок, базисным актовом по которым являются ценные бумаги или фондовые индексы, рассчитываемые организаторами торговли на рынке ценных бумаг, и в частности исчисления и уплаты налога, который не зависит от того, осуществляет ли физическое лицо - получатель дохода операции с ценными бумагами  в качестве индивидуального предпринимателя или нет. Такой позиции придерживается также Министерство финансов Российской Федерации, что подтверждается, в частности, письмами от 07.12.2006 N 03-05-01-04/328, от 16.08.2007 N 03-04-06-01/291 и от 29.09.2008 N 03-04-06-01/286. Однако при этом судами не учтено, что налоговый орган при расчете сумм пеней и штрафа не учел расходы предпринимателя, понесенные им при приобретении ценных бумаг у других физических лиц и переданные брокеру для введения их на торговую площадку. Данный довод был заявлен обществом в суд апелляционной инстанции, однако, несмотря на приобщение к материалам дела документов, его подтверждающих, оценки данному доводу дано не было. Кроме того, судами не учтено, что инспекция приняла декларации предпринимателя и согласилась с тем, что его налоговое обязательство составило в 2005 году - 60 166 рублей, а в 2006 году - 65 494 рубля, однако при исчислении сумм пеней и штрафа, подлежащих уплате налоговым агентом, инспекция исходила из того, что сумма неудержанного с предпринимателя налога на доходы физических лиц составила в 2005  году - 37 186 238 рублей, а в 2006 году - 29 738 827 рублей. Из смысла положений главы 23 Кодекса следует, что  на   налогового  агента не может быть возложена обязанность по удержанию с налогоплательщика и перечислению в бюджет налога в большей сумме, чем эта обязанность определена для самого налогоплательщика. При этом не имеет значения то обстоятельство, что налоговый агент не представил в ходе проверки документы, подтверждающие расходы, понесенные налогоплательщиком, поскольку у налоговых органов на момент проведения проверки общества такая информация имелась, и она не была ими опровергнута. Учитывая то, что оспариваемые судебные акты основаны на неправильном применении норм права о налогах и сборах и противоречат сложившейся судебно-арбитражной практике, коллегия судей усматривает основания для передачи дела в соответствии с пунктом 1 части 1 статьи 304 Арбитражного процессуального кодекса Российской Федерации в Президиум Высшего Арбитражного Суда Российской Федерации для пересмотра оспариваемых судебных актов в порядке надзора. Руководствуясь статьями 299, 300, 304 Арбитражного процессуального кодекса Российской Федерации, Суд определил: передать в Президиум Высшего Арбитражного Суда Российской Федерации дело N А40-42489/09-151-241 Арбитражного суда города Москвы для пересмотра в порядке надзора решения от 05.08.2009, постановления Девятого арбитражного апелляционного суда от 16.11.2009 и постановления Федерального арбитражного суда Московского округа от 15.03.2010 по указанному делу в части эпизодов доначисления единого социального налога в сумме 23 003 рубля 63 копейки, соответствующих пеней и   штрафа на суммы компенсационных выплат работникам за причитающийся им ежегодный оплачиваемый отпуск в 28 календарных дней вместо его фактического предоставления, доначисления по налогу на доходы физических лиц пени в сумме 891 771 рубля и штрафа в сумме 915 292 рубля, а также доначисления пени по налогу на доходы физических лиц в сумме 21 477 549 рублей и штрафа в сумме  13 385 013 рублей. Предложить лицам, участвующим в деле, представить отзывы в Президиум Высшего Арбитражного Суда Российской Федерации на заявление о пересмотре в порядке надзора до 15.10.2010. Председательствующий судья А.Г.ПЕРШУТОВ Судья Н.Г.ВЫШНЯК Судья О.Л.МУРИНА']"
      ]
     },
     "execution_count": 534,
     "metadata": {},
     "output_type": "execute_result"
    }
   ],
   "source": [
    "search('база', 'inverted_index')"
   ]
  },
  {
   "cell_type": "code",
   "execution_count": 449,
   "metadata": {},
   "outputs": [
    {
     "data": {
      "text/plain": [
       "['ВЕРХОВНЫЙ СУД РОССИЙСКОЙ ФЕДЕРАЦИИ\\nКАССАЦИОННОЕ ОПРЕДЕЛЕНИЕ\\nот 22 августа 2006 года\\n\\nДело N 77-о06-6 Судебная коллегия по уголовным делам Верховного Суда Российской Федерации в составе: \\xa0\\xa0\\xa0  \\xa0\\xa0\\xa0\\xa0\\xa0\\xa0\\xa0\\xa0\\xa0\\xa0\\xa0\\xa0\\xa0\\xa0\\xa0\\xa0\\xa0\\xa0\\xa0\\xa0\\xa0\\xa0\\xa0\\xa0  Галиуллина \\xa0\\xa0\\xa0  \\xa0\\xa0\\xa0\\xa0\\xa0\\xa0\\xa0\\xa0\\xa0\\xa0\\xa0\\xa0\\xa0\\xa0\\xa0\\xa0\\xa0\\xa0\\xa0\\xa0\\xa0\\xa0\\xa0\\xa0\\xa0\\xa0\\xa0\\xa0\\xa0\\xa0\\xa0\\xa0\\xa0\\xa0\\xa0\\xa0\\xa0\\xa0\\xa0\\xa0\\xa0\\xa0  \\xa0\\xa0\\xa0\\xa0\\xa0\\xa0\\xa0\\xa0\\xa0\\xa0\\xa0\\xa0\\xa0\\xa0\\xa0\\xa0\\xa0\\xa0\\xa0\\xa0\\xa0\\xa0\\xa0\\xa0\\xa0\\xa0\\xa0\\xa0\\xa0\\xa0\\xa0\\xa0\\xa0\\xa0\\xa0\\xa0\\xa0\\xa0\\xa0\\xa0\\xa0\\xa0\\xa0\\xa0\\xa0\\xa0\\xa0\\xa0\\xa0\\xa0\\xa0\\xa0  рассмотрела в судебном заседании кассационные жалобы осужденных М., Т. и законного представителя несовершеннолетнего Т. - М.Е. на приговор Липецкого областного суда от 24 апреля 2006 года, которым М., <...>, судимый: 09.08.2005 года по ст. 158 ч. 2 п. п. \"а\", \"б\", \"в\" УК РФ к 2 годам исправительных работ с удержанием ежемесячно в доход государства 20% заработка, осужден к лишению свободы по ст. 162 ч. 3 УК РФ на 8 лет, по ст. 30 ч. 3, 105 ч. 2 п. п. \"ж\", \"з\" УК РФ на 11 лет. На основании ст. 69 ч. 3 УК РФ назначено 15 лет лишения свободы. В соответствии со ст. 70 УК РФ окончательно назначено 15 лет 6 месяцев лишения свободы в исправительной колонии строгого режима. Т., <...>, судимый: 22.11.2004 года по ст. 158 ч. 3, ст. 166 ч. 2 п. \"а\" УК РФ к 3 годам лишения свободы условно; 09.08.2005 г. по ст. 158 ч. 2 п. \"а\", ст. 158 ч. 2 п. п. \"а\", \"б\", \"в\", ст. 158 ч. 3 УК РФ к 4 годам лишения свободы условно с испытательным сроком на 3 года, осужден к лишению свободы по ст. 207 УК РФ на 1 год, по ст. 162 ч. 3 УК РФ на 5 лет, по ст. 30 ч. 3, 105 ч. 2 п. п. \"ж\", \"з\" УК РФ на 5 лет 6 месяцев, по ст. 105 ч. 2 п. \"к\" УК РФ на 8 лет.  На основании ст. 69 ч. 3 УК РФ назначено 9 лет лишения свободы. В соответствии со ст. 70 УК РФ окончательно назначено 9 лет 6 месяцев лишения свободы в воспитательной колонии. Судом также разрешены гражданские иски. Заслушав доклад судьи Борисова В.П., изложившего обстоятельства дела, выслушав осужденного М., поддержавшего доводы своей жалобы, мнение прокурора Музыченко О.А., полагавшего приговор оставить без изменения, Судебная коллегия установила: М. и Т.  признаны  виновными в совершении разбоя, покушении на убийство при отягчающих обстоятельствах, а Т. еще и в убийстве с целью скрыть другое преступление и заведомо ложном сообщении об акте терроризма. Преступления совершены с 17 по 21 октября 2005 года в г. Липецке и Липецкой области при обстоятельствах, изложенных в приговоре. В судебном заседании осужденный Т. вину в заведомо ложном сообщении об акте терроризма не признал, а в совершении остальных преступлений признал полностью. Осужденный М. вину признал частично. В кассационных жалобах: осужденный Т., не оспаривая содеянного и квалификацию своих действий, указывает на суровость назначенного ему наказания. Утверждает, что суд не учел его активное способствование раскрытию преступления.  Указывает, что раскаивается в содеянном и просит смягчить ему наказание; законный представитель несовершеннолетнего осужденного М.Е. считает, что в убийстве потерпевшего принимали участие взрослые, ее сын Т. не мог совершить убийство. Просит учесть смягчающие его вину обстоятельства, семейное положение, снизить наказание, а также сумму компенсации морального вреда; осужденный М. утверждает, что умысла убивать потерпевшего у него не было. Он хотел только успокоить Д., который ударил его топором. Полагает, что об этом свидетельствует наличие только одной полосы удушения на шее потерпевшего, которая  была нанесена осужденным Т. В связи с этим просит  приговор изменить и снизить ему наказание. В возражениях на кассационные жалобы государственный обвинитель Тихонов А.И. и потерпевший С., указывая на несостоятельность изложенных в них доводов, просят оставить их без удовлетворения. Проверив материалы дела, обсудив доводы кассационных жалоб и возражения на них, Судебная коллегия находит вывод суда о виновности М. и Т. в совершении преступлений основанным на исследованных в судебном заседании доказательствах, анализ которых содержится в приговоре. Так, из показаний осужденного М., данных им на предварительном следствии и признанных судом достоверными, усматривается, что 20.10.2005 он со своей сожительницей Б.О., ее братом Б.С., а также Т. распивали спиртные напитки у П., отмечая его день рождения. Б.О. первой ушла домой. Они ушли позже. Т. предложил разобрать забор из цветного металла на дворе М- вых  и сдать в скупку. Они согласились. Около 00.00 часов втроем они пришли к М- вым  и стали разбирать забор. Хозяева прогнали их, сказав, что вызовут милицию. Б.С. пошел домой. Т. предложил  сходить за сигаретами к Д. Вдвоем они пришли  к Д. около 00.00 - начала первого часа ночи, стали стучать в дверь, в окно. Д. не хотел их впускать, кричал, чтобы уходили. Угрожал топором, которым поранил ему (М.) руку. Тогда Т. сказал, что у Д. есть деньги (тот накануне получил пенсию), и предложил их забрать. Он согласился. С этой целью они лопатой, металлическими палками выбили стекло и раму у входной (со двора) двери в дом Д. Д. оборонялся, не пуская их в дом, стоя в доме возле окна. Тогда он ударил Д. лопатой в голову, отчего тот упал. Т., а затем и он проникли через выбитое окно в дом. Д. лежал на полу, на боку. Т. сказал, что деда надо \"валить\". Он (М.) взял подушку и стал душить - закрывать лицо Д. подушкой. Д. кричал, вырывался. Задушить его подушкой не получилось. Тогда Т. подал ему полотенце. Он накинул его на  шею лежавшего на  полу Д., захлестнул полотенце сзади за горло, уперся коленом в спину и стал стягивать концы полотенца. Т. в этот момент бил Д. ногами по голове. Удерживал руки Д., чтобы тот не оказывал ему (М.) сопротивления. Он душил его где-то минуту. В результате их действий Д. потерял сознание, перестал сопротивляться и подавать признаки жизни. Они с Т. подумали, что убили его. Именно поэтому, будучи уверенным в том, что Д. мертв, он перестал душить его. Т. нашел в карманах Д. сто семьдесят рублей. Затем они стали искать деньги в доме. Вышли из комнаты, в которой остался Д., в чулан. В этот момент приехала Б.О. Она через то же выбитое ими окно проникла в дом. Увидела хозяина, лежавшего на полу без сознания, подумала, что они убили его, стала их ругать и выгонять. В этот момент Д. неожиданно для них стал приходить в себя, подавать признаки жизни. Тогда Т. сказал, что Д. надо убивать, иначе он сообщит в милицию о том, что его пытались ограбить и убить. С этими словами взял то же полотенце и стал душить деда до конца, душил минут пять, душил, так же, как и он, только сел на него верхом, дед лежал лицом вниз на полу. Он с Б.О. вылез через окно из дома и пошел домой. Т. оставался в доме и душил деда. Минуты через четыре Т. их догнал и сказал, что задушил Д. (т. 1  л.д . 163 - 165). Из показаний осужденного Т. видно, что 20.10.2005 года после дня рождения у П. и попытки разобрать забор М- вых  он предложил сходить к Д., взять сигарет и денег в долг. М. согласился, и они вдвоем пришли домой к Д., стали стучать в дверь, в окна. Д. кричал, чтобы они уходили, что в дом их не впустит. Они стали стучать еще сильнее. Тогда Д. открыл дверь и, махнув топором,  поранил палец М. Тогда он предложил  М. похитить у Д. деньги. М. согласился. С этой целью они лопатой и металлическим прутом выбили стекла и раму в окне рядом с входной дверью. Д. стоял у окна внутри дома, оборонялся топором. Ему удалось выхватить топор. М. ударил потерпевшего через оконный проем лопатой в голову. От удара Д. упал. Они проникли через выбитое ими окно внутрь. М. стал душить подушкой лежавшего на полу Д., а он держал его руки, чтобы не сопротивлялся. Душили его, чтобы рассказал, где хранит деньги. Подушкой придушить Д. не получилось. Тот вырывался и кричал. Тогда он взял в комнате полотенце и подал его М., чтобы тот задушил им деда. М. согласился с ним, что Д. надо убивать. М. накинул полотенце на шею Д.,  который  лежал на животе. Стал душить его. Душил он его одну - две минуты. Он же сам в это время держал руки Д. за головой, чтобы тот не вырывался, бил его, искал деньги в его карманах. В результате Д. перестал оказывать им сопротивление. Они подумали, что задушили Д., и тот умер. Поэтому М. прекратил душить его. В этот момент он нашел в карманах одежды Д. 170 рублей, которые забрал себе. Затем продолжили поиски денег в доме, вошли в чулан. В этот момент в дом залезла Б.О., увидела убитого Д., закричала и стала выгонять их из дома. Д. неожиданно для них стал подавать признаки жизни. Тогда он взял то же самое полотенце, которым М. душил Д. М. и Олеся стали вылезать из дома. Таким же способом он накинул полотенце на шею Д., который лежал в том же положении, когда его душил М., и стал душить. Делал это, опасаясь того, что Д. обратится в правоохранительные органы и сообщит о совершенном им и М. преступлении. Он душил Д. несколько минут, до тех пор, пока не убедился в том, что он действительно умер. Потом догнал М. и Б.О. и рассказал им. Они были в шоке. По пути домой она сказала им, что их ищет милиция за то, что они пытались разобрать забор у М- вых . По его предложению они пошли к П. и там их поймали сотрудники милиции за попытку разобрать забор. Ни он, ни М. в этот раз милиционерам не сказали о том, что  убили Д. Его отвели  домой. Отчим привязал его дома к батарее в комнате, чтобы не убежал. Когда все уснули, он пережег веревку и убежал, пошел домой к Б.О., у которой жил М., и рассказал ее отцу, что вместе с М. совершил убийство Икона - Д. После этого прятался в стоге сена в их сарае. Б.О. он отдал семьдесят рублей из тех денег, что забрал у Д. Позже отдал ей еще 50 рублей. Тем же утром его нашли сотрудники милиции. Признавая эти показания достоверными, суд обоснованно указал, что они согласуются с показаниями потерпевшего С., свидетелей Ч., Б.Е., К., Б.О. и других, подробно изложенными в приговоре. Кроме вышеизложенных показаний, по делу имеются и другие, приведенные в приговоре доказательства вины осужденных, признанные судом достоверными, в частности протокол осмотра места происшествия, заключения экспертиз. Доводы жалоб осужденного М. о том, что у него не было умысла на убийство потерпевшего, являются несостоятельными, поскольку, как установил суд, своими действиями М. и Т. целенаправленно лишали потерпевшего жизни, при этом Т. подавал М. подушку и полотенце, удерживал и бил потерпевшего, М. душил потерпевшего указанными предметами. Свой умысел на причинение смерти Д. Т. и М. не довели до конца по независящим от них причинам, и потерпевший остался жив, поскольку в процессе удушения перестал подавать признаки жизни, потеряв сознание. По этой причине они прекратили свои действия, направленные на причинение ему смерти, будучи уверенными в том, что Д. скончался. Утверждения законного представителя несовершеннолетнего М.Е. о причастности к убийству других лиц, материалами дела не подтверждается. Доводы жалоб о том, что суд не учел смягчающие вину осужденных обстоятельства, являются несостоятельными, поскольку из приговора судебного заседания видно, что суд учел все смягчающие вину осужденных обстоятельства, в том числе и указанные в жалобах, и назначил им наказание в соответствии с требованиями ст. 60 УК РФ. Материалы дела исследованы с достаточной полнотой, нарушений норм УПК РФ по делу не имеется, оно расследовано и рассмотрено всесторонне, полно и объективно. При таких обстоятельствах Судебная коллегия считает, что суд первой инстанции правильно установил фактические обстоятельства дела и обоснованно пришел к выводу о виновности М. и Т. в инкриминируемых им преступлениях. Назначенное им наказание нельзя признать несправедливым вследствие суровости, поэтому Судебная коллегия не может согласиться с доводами жалоб о смягчении наказания осужденным. Руководствуясь ст. ст. 377, 378, 388 УПК РФ, Судебная коллегия определила: приговор Липецкого областного суда от 24 апреля 2006 года в отношении М. и Т. оставить без изменения, а кассационные жалобы - без удовлетворения.',\n",
       " 'ВЕРХОВНЫЙ СУД РОССИЙСКОЙ ФЕДЕРАЦИИ\\nОПРЕДЕЛЕНИЕ\\nот 5 августа 1993 года\\n\\n(извлечение) Левобережным районным народным судом г. Воронежа Р.  осуждена  по  пп . \"а\", \"б\" ч. 2 ст. 146 УК. Она признана виновной в нападении с целью завладения личным имуществом граждан, соединенным с насилием, опасным для жизни и здоровья граждан, по предварительному сговору группой лиц с применением предметов, используемых в качестве оружия. Как указано в приговоре, 2 декабря 1990 г. вечером Р., ее муж Р. (осужден за данное преступление тем же судом) и их знакомые М. и Ч. распивали спиртные напитки. М. рассказала о своих ссорах с Г.Т., и Р. предложила заступиться за М. Около 23 часов Ч. и М. привезли Р. к дому, где проживала Г.Т. Р. позвонила в ее квартиру, а когда та открыла дверь, она стала избивать Г.Т. и ее мать Г.Л. Р. же нанес удары руками и металлической цепью им и Г.А., в комнату которого зашел.  Затем по требованию Р. мать и дочь Г. отдали ей серьги и кольцо. В результате действий Р. Г.Л. были причинены легкие телесные повреждения, повлекшие за собой кратковременное расстройство здоровья, а ее дочери и Г.А. - легкие телесные повреждения, не повлекшие расстройства здоровья. Постановлением президиума Воронежского областного суда оставлен без удовлетворения протест прокурора области, в котором ставился вопрос о переквалификации действий Р. на ч. 1 ст. 145 УК. Заместитель Председателя Верховного Суда РФ в протесте поставил вопрос о переквалификации действий Р. с  пп . \"а\", \"б\" ч. 2 ст. 146 УК на ч. 2 ст. 206 и ч. 1 ст. 145 УК. Судебная коллегия по уголовным делам Верховного Суда РФ 5 августа 1993 г. протест удовлетворила, указав следующее. Квалифицируя действия Р. по ч. 2 ст. 146 УК, суд указал, что Р. применили насилие к потерпевшим с целью завладения их личным имуществом. Вывод суда о том, что умысел Р. был направлен на завладение имуществом Г., основан лишь на том, что после нанесения им ударов она забрала у них золотые украшения. В то же время при оценке ее действий не учтены другие обстоятельства дела, в частности предшествующие события и поведение Р. Как видно из материалов дела, Р.  направилась в квартиру Г. с целью заступиться за М. Это обстоятельство признал  и суд в приговоре, исключив квалифицирующий признак разбойного нападения - \"проникновение в жилище\" и указав, что умысел на завладение имуществом возник у Р. уже в квартире потерпевшей. Из дела видно, что Р. ворвалась в квартиру потерпевших, накинулась на Г.Т., стала драться с ней, выражалась при этом нецензурно. Согласно показаниям потерпевших, в этот момент Р. никаких действий, направленных на завладение их имуществом, не совершала. Как показала Р., она нанесла удары матери и дочери Г. в связи с выяснением отношений между ними и М. Эти данные в их совокупности свидетельствуют о том, что, нанося потерпевшим удары, Р. действовала из хулиганских побуждений. Вместе с тем из дела видно, что после избиения потерпевших из хулиганских побуждений у Р. возникло намерение завладеть их золотыми украшениями, что и было ею сделано, и с похищенным она с места происшествия скрылась. Как поясняли в судебных заседаниях потерпевшие, в тот момент, когда Р. требовала и забирала у них украшения, в комнате не было ее мужа, Р. О том, что Р. одна завладела их золотыми украшениями, потерпевшие подтвердили. Р. и на следствии, и в суде утверждал, что ему не было известно о том, что Р. забрала у потерпевших украшения, так как он выходил в комнату, где находился Г.А., и узнал об этом уже после ухода из квартиры Г. Доказательств того, что Р. похитила у потерпевших золотые украшения по предварительному сговору с Р., в материалах дела не имеется. При таких обстоятельствах следует признать, что Р. совершила злостное хулиганство, отличающееся по своему содержанию особой дерзостью, выразившейся в причинении потерпевшим телесных повреждений, и открыто похитила принадлежащее им имущество, в  связи  с чем ее действия должны быть квалифицированы по ч. 2 ст. 206 и ч. 1 ст. 145 УК.',\n",
       " 'ВЕРХОВНЫЙ СУД РОССИЙСКОЙ ФЕДЕРАЦИИ\\nОПРЕДЕЛЕНИЕ\\nот 16 января 2002 г. N 35-О01-73\\n\\nПредседательствующий: Козаченко В.С. Судебная коллегия по уголовным делам Верховного Суда Российской Федерации в составе председательствующего -  Лутова  В.Н. судей - Ворожцова С.А. и Степанова В.П. рассмотрела в судебном заседании 16 января 2002 года уголовное дело по кассационным жалобам осужденного Г. и адвоката Шмакова С.Ю. на приговор Тверского областного суда от 15 октября 2001 года, которым - Г., родившийся 14 июля 1969 года в городе Твери, ранее не судимый, осужден по ч. 1 ст. 222 УК РФ к 2 годам лишения свободы; по п. \"б\", \"г\" ч. 2 ст. 162 УК РФ к 9 годам лишения свободы с конфискацией имущества; по ч. 3 ст. 30 и п. \"б\" ч. 2 ст. 105 УК РФ - к 12 годам лишения свободы; по ст. 166 ч. 4 УК РФ к 8 годам лишения свободы. На основании ст. 69 ч. 3 УК РФ по совокупности преступлений окончательно назначено 15 лет лишения свободы с конфискацией имущества с отбыванием в исправительной колонии строгого режима. Заслушав доклад судьи Ворожцова С.А., заключение прокурора  Пеканова  И.Т., полагавшего необходимым оставить приговор без изменения, судебная коллегия установила: Г. признан виновным и осужден за то, что в ночь с 16 на 17 февраля 2001 года в городе Твери незаконно носил огнестрельное оружие и боеприпасы, совершил разбойное нападение, покушение на убийство М.И.С. в связи с выполнением последним своего общественного долга, а также неправомерно завладел автомобилем М.Ю.А. без цели хищения. Преступления осужденным совершены при обстоятельствах, подробно изложенных в приговоре. Вину в совершении преступлений Г. не признал, на приговор подал кассационную жалобу. В кассационном порядке приговор обжаловал и адвокат Г. - Шмаков С.Ю. В кассационных жалобах содержится просьба об отмене приговора и прекращении производства по делу. Обосновывая такую  просьбу  осужденный и адвокат в жалобах указывают, что суд в приговоре использовал доказательства, добытые с нарушением УПК РСФСР, и что выводы суда основаны на предположениях, а не на точно установленных фактах. В суде односторонне оценены показания Г. К опознанию И. Г. необходимо было отнестись критически. Опознание проводилось с нарушением закона. Потерпевшие и свидетели добросовестно заблуждались, что именно Г. совершил преступления. По  делу было допущено нарушение права на защиту Г. и ему фактически не был  предоставлен адвокат. Судом не приняты во внимание показания Г. о том, что следы металлизации на его брюках образовались не от пистолета, а от железной трубки, которую он прятал за брюки в ИВС. Выводы наркологической экспертизы не достаточно убедительно доказаны, мотивированы, поверхностны. Г. прошел лечение от наркомании. Суд не учел объективных характеристик Г. Потерпевший М.Ю.А. в своих возражениях на жалобы просит оставить приговор без изменения. Изучив материалы дела, обсудив доводы кассационных жалоб, судебная коллегия находит выводы суда о виновности Г. правильными, основанными на исследованных в судебном заседании и приведенных в приговоре доказательствах. Потерпевшая И. показала, что в ту ночь, когда она стояла в магазине за прилавком рядом с кассой, а М.И.С. сидел за прилавком недалеко от нее, в магазин в черной куртке, в сером свитере, в черных брюках, в маске, сделанной из вязаной шапочки с прорезями для глаз, вошел Г., которого она в дальнейшем опознала по нижним чертам лица, скулам , подбородку - не  закрытым  шапочкой, а также по росту и по телосложению. Увидев Г. в маске, она сначала подумала, что это кто-то из ее знакомых решил пошутить, и улыбнулась. Г. подошел к ней, вытащил из-за пояса своих черных брюк пистолет с глушителем, со сказанными в грубой форме словами - наставил ствол пистолета ей в лицо. Увидев это, М.И.С. вскочил. Г. тут же  направил ствол пистолета на М.И.С. Она услышала  щелчок - произошла осечка. Г. передернул затвор. М.И.С. схватил бутылку с пивом и бросил ее в Г. В это же время Г.  выстрелил в М.И.С. М.И.С. кинулся  к Г., тот еще раз выстрелил в М.И.С. М.И.С. вскрикнул. От страха она присела за прилавок и вновь услышала выстрел, М.И.С. выбежал из магазина. Г. выбежал за ним. Желая  увидеть  куда побежал Г., она, открыв заднюю дверь магазина, увидела Г., который уже без шапочки на голове с пистолетом в руке бежал в сторону трамвайных путей. Она считает, что в магазин Г. пришел с целью хищения денег и другого имущества. Потерпевший М.И.С. в судебном заседании показал, что в ночь с 16 на 17 февраля 2001 г. он находился в магазине ЧП \"Рожков\", разговаривая там со своей знакомой - продавщицей И. Около 1 часа в магазин в вязаной шапочке на лице, с прорезями для глаз вошел худощавый мужчина среднего роста, достал из-за пояса своих брюк пистолет с глушителем и сказал  Ивановой \"Ты что  лыбишьса , сука?\". Понимая, что это нападение на магазин он, М.И.С., встал,  желая защитить И. Тут же напавший направил на него  ствол пистолета с глушителем. Прозвучал звук, который мог быть звуком осечки пистолета. Он, М.И.С., схватил со стойки бутылку с пивом, размахнулся рукой, чтобы бросить бутылку в напавшего мужчину, но в это время напавший мужчина выстрелил из пистолета в него, ранив его в тыльную часть правого предплечья.  Бутылку ему удалось бросить в нападавшего, но попасть в него не получилось.  Сразу он побежал в сторону входной двери. Тот мужчина, когда он пробегал мимо него, выстрелил ему сбоку в живот. От этого выстрела пуля застряла у него в позвоночнике и до сих пор находится там. Выбежав из магазина, он подбежал к автомашине, на которой его доставили в больницу. М.Ю.А. показал, что в ночь с 16 на 17 февраля 2001 г. он со своей знакомой Н. находился в своей автомашине ВАЗ-21099. Автомашина стояла на улице Можайского. Он сидел на сиденье водителя. Н. сидела рядом с ним на сиденье пассажира. Около 1 часа 30 минут к автомашине со стороны Н. подошел Г., сказал, что у него проблемы, что за ним гонится милиция и потребовал, чтобы на автомашине его отвезли, не говоря конечного места, куда его следует отвезти. Он отказал Г., сказав ему, что частным извозом он не занимается. Г. не отходил от автомашины и продолжал требовать, чтобы его отвезли. Он вышел из автомашины, чтобы объяснить Г., что он частным извозом не занимается, и подошел к  Г.у . Г. был одет в черную куртку, свитер, черные брюки. Из кармана куртки Г. торчала черная вязаная шапочка. Когда он подошел к Г., Г. достал из-за пояса своих брюк пистолет с глушителем и, наставив на него ствол пистолета, сказав, что проблемы Г. сейчас станут его М.Ю.А., проблемами, вновь потребовал, чтобы его отвезли. Опасаясь, что Г. может применить имеющееся у него оружие, он, М.Ю.А., сел за руль своей автомашины Г. сел сзади него, наставил ему ствол пистолета в правый висок, указывая дорогу, потребовал двигаться. Он, М.Ю.А., почувствовал запах пороха от приставленного к его виску пистолета и понял, что из пистолета стреляли. В пути Г. ствол своего пистолета переместил с его правого виска к его правому боку и, продолжая угрожать применением пистолета, говорил путь движения. По указанию Г. он остановил автомашину  поселке  Чкаловском рядом с \"Сельхозтехникой\". Г., демонстрируя свой пистолет, потребовал, чтобы он в машине снял магнитолу \"Пионер\" и передал ему. Опасаясь, что Г. может применить имевшийся у него пистолет, он снял магнитолу, стоимостью 4500 рублей, и  передал ее Г. Выходя  из машины, Г. взял его куртку-пуховик, стоимостью 4000 рублей, в кармане которой находилось 3000 рублей, и ушел. Ущерб, при хищении, для него значительный. Свидетель Н. дала показания, аналогичные показаниям потерпевшего М.Ю.А. Обоснованно у суда не вызвали сомнений факты опознаний Г. М.Ю.А. и Н. Опознание проведено с соблюдением требований УПК РСФСР. Достоверность показаний потерпевших и свидетелей подтверждена протоколом осмотра места происшествия, заключением судебно-медицинской экспертизы  об   имевшихся  у потерпевшего М.И.С. телесных повреждений и механизме их причинения, заключением судебно-химической экспертизы об обнаружении на брюках Г. следов металлизации железом. Судом проверялись и обоснованно опровергнуты доводы Г., что эти следы якобы могли произойти не от пистолета, а от трубки. Юридическая оценка  содеянного  Г. судом определена правильно. Наказание осужденному назначено с учетом содеянного, данных о его личности, всех смягчающих его наказание обстоятельств, в том числе и тех на которые имеется ссылка в кассационных жалобах. Оснований для смягчения наказания осужденному судебная коллегия не находит. Каких-либо существенных нарушений норм УПК РСФСР, которые могли бы  повлечь за собой отмену приговора по делу не допущено . Согласно заключению судебно-наркологической экспертизы Г. признан страдающим наркоманией опийного ряда и в связи с изменением черт личности по  наркоманическому  типу нуждается в применении к нему  противонаркотического  лечения. Противопоказаний для данного лечения у него не имеется. Каких-либо оснований не доверять выводам экспертов у суда не имелось. Учитывая  изложенное , руководствуясь ст. ст. 332, 339 УПК РСФСР, судебная коллегия определила: приговор Тверского областного суда от 15 октября 2001 года в отношении Г. оставить без изменения, а кассационные жалобы - без удовлетворения.',\n",
       " 'ВЕРХОВНЫЙ СУД РОССИЙСКОЙ ФЕДЕРАЦИИ\\nКАССАЦИОННОЕ ОПРЕДЕЛЕНИЕ\\nот 20 августа 2002 г. N 11-О02-53\\n\\nСудебная коллегия по уголовным делам Верховного Суда Российской Федерации в составе: председательствующего -  Галиуллина  З.Ф. судей - Борисова В.П. и Бурова А.А. рассмотрела 20 августа 2002 года уголовное дело по кассационным жалобам осужденных А., В. и адвоката Александрова В.А. на приговор Верховного Суда Республики Татарстан от 1 апреля 2002 года, по которому А. <...>, судимый 31 августа 1999 г. по ст. 158 ч. 2 п. п. \"в\", \"г\" УК РФ к 3 годам 6 месяцам лишения свободы, на основании п. п. \"а\" п. 9 Постановления Государственной Думы от 26 мая 2000 года \"Об объявлении амнистии\" оставшийся срок наказания сокращен наполовину, освобожден 30 августа 2001 года. 12 февраля 2002 года по ст. 213 ч . 2 п. \"а\" УК РФ к 9 месяцам лишения свободы, осужден к лишению свободы по ст. 295 УК РФ на 16 лет, по ст. 213 ч. 2 п. п. \"а\", \"б\" УК РФ на 4 года, по ст. 325 ч. 2 УК РФ на один год исправительных работ с удержанием 20% заработка в доход государства. На основании ст. 69 ч. 3 УК РФ назначено 18 лет лишения свободы. На основании ст. 69 ч. 5 УК РФ по совокупности преступлений окончательно назначено 18 лет 6 месяцев лишения свободы в исправительной колонии особого режима. По ст. 162 ч. 3 п. \"в\" УК РФ, А. оправдан за отсутствием состава преступления. В. <...>, не  имеющий  судимости, осужден к лишению свободы по ст. 295 УК РФ на 13 лет, по ст. 213 ч. 2 п. п. \"а\", \"б\" УК РФ на 2 года. На основании ст. 69 ч. 3 УК РФ по совокупности преступлений окончательно назначено 13 лет 6 месяцев лишения свободы в исправительной колонии строгого режима. По ст. 162 ч. 3 п. \"в\" и 325 ч. 2 УК РФ, В. оправдан за отсутствием состава преступления. Постановлено взыскать с А. и В. в солидарном порядке в возмещение ущерба 3 098 рублей 73 копейки в пользу больничной кассы ЦРБ г. Зеленодольска. А также в пользу Р. в качестве компенсации морального вреда по 75 000 рублей с каждого. Заслушав доклад судьи Борисова В.П., выслушав доводы осужденного А. просившего по ст. 295 УК РФ его оправдать, мнение прокурора Сафонова Г.П., полагавшего приговор оставить без изменения, судебная коллегия. установила: А. и В. признаны виновными в посягательстве на жизнь прокурора, следователя в связи с рассмотрением дел и материалов в суде, производством предварительного расследования, совершенном из мести за законную деятельность, а также в хулиганстве, связанном с сопротивлением лицу, пресекающему нарушение общественного порядка.  Кроме того, А.  признан  виновным и в похищении важного личного документа. Преступления совершены 19 октября 2001 года в г. Зеленодольске РТ при обстоятельствах, изложенных в приговоре. В судебном заседании осужденные А. и В. вину признали частично. В кассационных жалобах: осужденный А. считает, что дело в отношении его сфабриковано, не отрицает, что избивал потерпевшего, но не выбрасывал его из окна. Полагает, что следствие проводилось с нарушением закона, следственный эксперимент проводился со статистом меньшего размера, чем потерпевший. Утверждает, что не предъявлял к потерпевшему претензий по поводу осуждения брата, так как знал, что он к этому не причастен. Считает, что потерпевшие и свидетели его оговаривают. Просит приговор изменить, его по ст. 295 УК РФ оправдать; адвокат Александров В.А. считает приговор в отношении А. не законным. Утверждает, что доводы А. о том, что он не выбрасывал потерпевшего из окна, не опровергнуты. Полагает, что следственный эксперимент проведен с нарушением закона. Доказательств того, сам выбросился потерпевший из окна, или его выбросили, нет. Просит приговор в отношении А. отменить, а дело направить на дополнительное расследование; осужденный В. указывает о своем несогласии с приговором. Считает, что следствие проводилось в одностороннем порядке, следственный эксперимент проводился со статистом меньшего размера, чем потерпевший. Утверждает, что он не выбрасывал потерпевшего из окна, что по состоянию здоровья он не мог этого сделать. Просит приговор отменить. В письменных возражениях потерпевшая П. считает доводы кассационных жалоб не обоснованными, и просит приговор оставить без изменения. Проверив  материалы дела и обсудив  доводы, изложенные в кассационных жалобах, судебная коллегия находит, что вина А. и В., в совершенных преступлениях подтверждается их собственными показаниями, в которых они не отрицают нанесение ударов потерпевшему, показаниями потерпевших, свидетелей, заключениями экспертов и другими материалами дела. Так, из показаний потерпевшей П. видно, что ее брат Р. длительное время работал в органах прокуратуры, а в последнее время адвокатом. В день убийства он имел с собой удостоверение адвоката. Из показаний потерпевшей Т. усматривается, что ночью 19 октября 2001 года в ее комнату забежал Р. и попросил вызвать милицию. За ним забежали А. и В. и стали с применением физической силы тащить его из комнаты. Находясь в комнате, Р. прижался к окну, и спрятался за ее спину. Она сказала осужденным, чтобы они вышли из комнаты и оставили потерпевшего в покое. После этого, В. оттолкнул ее, чем причинил физическую боль. А. грубо схватил за одежду Р. и потянул его из комнаты. Потерпевший упирался, не хотел идти. Она помогала потерпевшему остаться в комнате и тянула его на себя.  При этом она сказала осужденным, что вызовет милицию, но А. пригрозил ей, что если она это сделает, то он оторвет ей голову.  В. также сказал, чтобы она не вздумала вызывать милицию. От криков и шума проснулась ее малолетняя дочь и стала от испуга плакать. Ее сожитель А.Б. также просил осужденных покинуть комнату. Уходя из комнаты, А. высказал угрозу А.Б., пояснив, что если А.Б. вызовет милицию, то ему не поздоровится. Затем через дверь комнаты она слышала, как осужденные избивали Р.,  который  кричал. Открыв дверь, видела, как А. бил ногами потерпевшего, а В. стоял рядом. А. предъявлял претензии к Р. в том, что он посадил его брата на 11 лет. Через некоторое время шум и крики в коридоре прекратились. Аналогичные показания дал потерпевший А.Б., дополнив, что когда прекратились звуки избиения в коридоре, он услышал звук, как будто упал тяжелый мешок, после чего сразу же раздался топот ног людей, бегущих по лестнице. Он посмотрел из окна и увидел лежащего на асфальте Р. Из показаний свидетеля Б. видно, что в процессе распития спиртных напитков в общежитии между А. и Р. произошла ссора по той причине, что Рябинин \"посадил\" брата А. на 11 лет. Р. вырвался от А., и забежал в какую-то комнату, после чего вышла хозяйка комнаты и стала ругаться. Она,  Б.Л.и  Н. спустились на 1 этаж, а Р., А. и В. остались на 4 этаже. Затем к ним спустился А., на  котором  была кепка Р., он выпил водки, и опять поднялся наверх. Потом они услышали крики потерпевшего: \"Не трогайте меня, у меня дети\". Они поднялись наверх и обнаружили потерпевшего и осужденных на 3 этаже. Она видела, как А. и В. били Р. руками по телу. Б.Л. и Н. стали их разнимать, но А. сказал, чтобы они не вмешивались. После этого они спустились вниз, и пошли к выходу. Через некоторое время их догнал А. и сказал, что Р. выбросился из окна. Позже он сказал, что если кого-то вызовут в милицию, то должны говорить, что потерпевшего выбросил из окна В. Из показаний свидетеля Н. усматривается, что действительно, в ходе ссоры А. предъявлял к Р. претензии по поводу того, что последний работал в прокуратуре, \"посадил\" его брата на 11 лет. А. стал избивать потерпевшего, тот забежал в какую-то комнату. За ним забежали А. и В. и вытащили его оттуда, стали избивать. Он с Б. и Б.Л. спустились на первый этаж, через некоторое время туда спустился А., выпил спиртного и сказал, что он его все равно добьет, после чего вновь ушел. Слышали крики Р., когда  поднялись наверх увидели , что осужденные бьют Р.А. ударил потерпевшего два раза головой о стену. Они пытались их разнять, но не получилось и они пошли на выход. В конце коридора он оглянулся и увидел, что А. и В. стоят на подоконнике, а между ними  находится Р. и они заталкивают  его головой вперед в оконный проем. Вытолкнув потерпевшего в оконный проем, осужденные подошли к ним, и он спросил А., зачем они это сделали, на что последний ответил, что он сам выбросился из окна. Они предложили им вызвать \"скорую помощь\", но осужденные отказались. Позже А. сказал, что если кого будут вызывать в милицию, говорить, что потерпевшего выбросил из окна один В. Аналогичные показания дал свидетель Б.Л. Суд первой инстанции тщательно проверил данные показания и дал им надлежащую оценку. Судебная коллегия такую оценку, данную судом этим показаниям, находит правильной, поскольку они последовательны и согласуются с другими имеющимися в материалах дела доказательствами, в том числе: с протоколом осмотра места происшествия; с актом судебно-медицинской экспертизы о том, что смерть Р. наступила от закрытой черепно-мозговой травмы в виде переломов костей свода и основания черепа, кровоизлияний под оболочки мозга, осложнившейся отеком головного мозга; Доводы осужденных и адвоката Александрова В.А. о том, что А. и В. не выбрасывали потерпевшего из окна, являются не состоятельными, поскольку опровергаются показаниями свидетелей Н., Б.Л., заключением эксперта и протоколом следственного эксперимента. Таким образом, вывод суда расценившего данные показания осужденных, как стремление избежать уголовной ответственности, является обоснованным. Несостоятельны и доводы осужденных о незаконности проведенного следственного эксперимента, поскольку, как установлено судом, он проведен в соответствии с требованиями УПК РСФСР, кроме того, вина осужденных подтверждается и другими доказательствами, исследованными в суде. Доводы осужденных об оговоре их со стороны потерпевших и свидетелей, судом проверялись, и подтверждения не нашли. Доводы осужденного В. о том, что он не мог по состоянию здоровья, выбрасывать потерпевшего из окна, являются не убедительными, поскольку опровергаются заключением эксперта о том, что имеющееся у него болезненное изменение не препятствует поднятию тяжести определенной для мужчины возраста и физического развития, то есть он вполне способен поднять и перенести груз весом 40 - 50 кг, и более. Существенных нарушений норм УПК РСФСР, влекущих безусловную отмену или изменение приговора, по делу не выявлено. При таких обстоятельствах судебная коллегия считает, что суд первой инстанции правильно установил фактические обстоятельства дела и обоснованно пришел к выводу о виновности А. и В. в совершении данных преступлений. Действиям А. и В. дана правильная юридическая оценка. При назначении наказания А. и В. суд обоснованно учел общественную опасность содеянного, обстоятельства дела, а также данные, характеризующие их личность. На основании изложенного, руководствуясь ст. 377, 378 и 388 УПК РФ, судебная коллегия определила: приговор Верховного Суда Республики Татарстан от 1 апреля 2002 года в отношении А. и В. оставить без изменения, а кассационные жалобы - без удовлетворения.',\n",
       " 'ВЕРХОВНЫЙ СУД РОССИЙСКОЙ ФЕДЕРАЦИИ\\nКАССАЦИОННОЕ ОПРЕДЕЛЕНИЕ\\nот 9 марта 2010 г. N 59-о10-4\\n\\nСудебная коллегия по уголовным делам Верховного Суда Российской Федерации в составе: председательствующего  Червоткина  А.С. судей Глазуновой Л.И. и Ведерниковой О.Н. при секретаре Назаровой Т.Д. рассмотрела в судебном заседании дело по кассационным жалобам осужденной  Хлебодаровой  Т.Н., адвоката  Битяк  В.В., законного представителя осужденной - Г. на приговор Амурского областного суда от 4 декабря 2009 года, которым Хлебодарова  Т.И. <...> осуждена по ст. ст. 33 ч. 4, 30 ч. 3, 105 ч. 2 п. \"з\" УК РФ к 5 годам лишения свободы с отбыванием наказания в воспитательной колонии. По делу  осуждены   Давискиба  Д.С.,  Полуполтинов  П.Ф. и  Шишко  Н.А., приговор в отношении которых в кассационном порядке не обжалован. Заслушав доклад судьи Глазуновой Л.И., выступление осужденной  Хлебодаровой  Т.И., адвоката Докучаева М.В., поддержавших доводы кассационных жалоб и просивших изменить приговор по изложенным в них основаниям, возражения прокурора Щукиной Л.В., просившей приговор оставить без изменения, судебная коллегия установила: согласно приговору  Хлебодарова  Т.И.  осуждена  за подстрекательство к убийству отчима - К. по найму, которое не было доведено до конца по независящим от осужденных обстоятельств. Как установлено судом, преступление совершено 5 декабря 2008 года в пос. <...> г. <...> области при указанных в приговоре обстоятельствах. В судебном заседании  Хлебодарова  Т.И. свою вину признала. В кассационной жалобе она просит приговор изменить, назначив наказание, не связанное с лишением свободы. Она указывает, что при назначении наказания судом не учтено, что она признала свою вину и раскаялась в содеянном, написала явку с повинной, характеризуется положительно. Кроме того, обращает внимание, что в судебном заседании  Давискиба  Д.С.,  Полуполтинов  П.Ф. и К. заявили, что оговорили ее в том, что она подстрекала к убийству отчима, однако, судом эти показания не были приняты во внимание. Также она просит учесть, что отчим простил ее, признав, что сам был несправедлив к ней, и то обстоятельство, что инкриминируемые ей деяния она совершила в период, когда у нее сложились тяжелые семейные обстоятельства. Ей исполнилось всего 15 лет, из дома ее выгнали, не имея жизненного опыта, она не смогла найти правильного выхода из сложившейся ситуации. Адвокат  Битяк  В.В. просит приговор в отношении  Хлебодаровой  Т.И. отменить и дело прекратить. По мнению адвоката, утверждение  Хлебодаровой  Т.И. о том, что она не предлагала убить отчима, в том числе и за вознаграждение, материалами дела не опровергнуто. Сама она отрицала, что  уговаривала других осужденных совершить убийство К. от нее исходила  инициатива лишь избить его.  Шишко  Н.А. и  Полуполтинов  П.Ф. заявили, что с ними Т. ( Хлебодарова ) вопрос об убийстве отчима не обсуждала. Не соответствует фактическим обстоятельствам дела, как считает адвокат, вывод суда и в той части, что  Хлебодарова  Т.И. активно помогала в подготовке к совершению преступления. Эту роль выполнял  Давискиба , именно он узнавал, как и где работает потерпевший, где находится гараж, в котором намеревались совершить убийство и др. Кроме того, адвокат считает, что в судебном заседании не добыто доказательств того, что  Хлебодарова  Т.И., являясь несовершеннолетней, смогла убедить взрослых молодых людей, что в квартире потерпевшего имеется много денег и золотых украшений, которыми она рассчитается с ними за совершенное убийство. Адвокат высказывает мнение, что остальные осужденные оговаривают ее подзащитную, чтобы уменьшить степень своей ответственности за совершенное преступление. Законный представитель осужденной - Г. в кассационной жалобе просит принять справедливое решение, утверждая, что внучка попала под влияние взрослых молодых людей криминальной направленности, которые воспользовались отсутствием у нее жизненного опыта и наличием возникших неприязненных отношений с отчимом, и самостоятельно решили убить его. Она считает, что внучка ( Хлебодарова  Т.И.) не способна на совершение деяний, в которых ее обвинили, \"ее кто-то подтолкнул к этому, за ней кто-то стоял\". В возражениях на кассационные жалобы осужденный  Давискиба  Д.С. указывает, что оснований оговаривать  Хлебодарову  Т.И у него не имелось. Она действительно предлагала убить отчима, обещая за это деньги. Проверив материалы дела, обсудив доводы кассационных жалоб, судебная коллегия оснований к их удовлетворению не усматривает. Вина  Хлебодаровой  Т.И. в совершении инкриминируемых ей деяний подтверждается исследованными в судебном заседании доказательствами, анализ которым дан в приговоре. Хлебодарова  Т.И., как в судебном заседании, так и на предварительном следствии, давая показания о мотиве и обстоятельствах совершения преступления, поясняла, что на почве неприязненных отношений решила избавиться от отчима. Об этом она сказала  Полуполтинову  П.Ф.,  Давискибе  Д.С. и  Шишко  Н.А., кроме того, сообщила, что в квартире родителей находится крупная сумма денег, золотые украшения, которые они могут забрать. О том, что  Хлебодарова  Т.И. предлагала убить отчима, взять у него ключи от квартиры, проникнуть в квартиру и забрать деньги с золотыми украшениями, пояснял в судебном заседании  Давискиба  Д.С. Шишко  Н.А. и  Полуполтинов  П.Ф. на предварительном следствии поясняли (эти показания судом признаны достоверными), что  Хлебодарова  Т.И. им предлагала убить отчима и забрать из квартиры деньги и золотые украшения. Потерпевший К. пояснил, что  Хлебодарова  Т.И. приходится ему падчерицей. В 2008 году между ними стали возникать ссоры на почве того, что она стала встречаться с взрослым мужчиной, а затем ушла к нему жить. 5 декабря 2008 года он пошел в гараж за машиной, к нему подошел молодой человек и выстрелил в лицо. Он упал, чувствовал, что обыскивают его карманы. Кроме того, он пояснил, что семья их материальных затруднений не испытывает. В квартире действительно имелись деньги в сумме около <...> рублей, на которые незадолго до происшествия они купили автомашину. О том, что в квартире незадолго до нападения на потерпевшего в его квартире находилась крупная сумма денег, подтвердила свидетель К. - жена потерпевшего и мать осужденной. Показания потерпевшего и свидетеля К. свидетельствуют о достоверности показаний  Хлебодаровой  Т.И. в той части, что в квартире родителей имеются деньги, которые исполнители преступления должны были забрать. Шишко  Н.А. пояснял, что после выстрела в потерпевшего, из кармана его одежды забрал ключ от квартиры, который забросил на козырек подъезда. При осмотре гаража, в котором было совершено преступление, между воротами и машиной обнаружены следы вещества бурого цвета, похожие на кровь. Согласно выводам судебной экспертизы изъятое с места происшествия вещество является кровью человека, происхождение которой от потерпевшего не исключается. В указанном  Шишко  Н.А. месте (на козырьке подъезда) обнаружен ключ от замка квартиры потерпевшего. Из заключения судебно-медицинского эксперта видно, что у К.А.Н. имелось одиночное огнестрельное пулевое ранение лица с переломом стенок гайморовой пазухи, скуловой кости слева с контузией левого глаза. Оценив добытые доказательства, суд обоснованно пришел к выводу, что  Хлебодарова  Т.И. подстрекала  Давискибу  Д.С. к убийству отчима за вознаграждение, однако ее умысел не был доведен до конца по причинам, от нее не зависящим. Действия осужденной квалифицированы правильно. Судебная коллегия не может согласиться с доводами кассационной жалобы адвоката  Битяк  В.В., что доказательства, подтверждающие вывод суда в той части, что  Хлебодарова  Т.И. подстрекала осужденных к убийству своего отчима, отсутствуют (при этом адвокат ссылается на показания в судебном заседании  Шишко  Н.А. и  Полуполтинова  П.Ф., которые не уличали  Хлебодарову  Т.И. в подстрекательстве к убийству потерпевшего). В силу положений действующего уголовно-процессуального закона доказательствами по уголовному делу являются (в том числе) и показания подсудимых на предварительном следствии, которые получены с соблюдением закона. Материалами дела установлено, что  Шишко  Н.А. и  Полуполтинов  П.Ф. допрошены на предварительном следствии с соблюдением закона, они написали явки с повинной, свои показания подтвердили при проверке их на месте. Судом эти показания признаны допустимыми, исследованы в судебном заседании и приведены в приговоре в качестве доказательств, основывающих вывод суда о виновности осужденных, в том числе и  Хлебодаровой  Т.И. Нарушений уголовно-процессуального закона, влекущих отмену или изменение приговора, по материалам дела не установлено. Вопрос о психическом состоянии осужденной судом выяснялся. Данных о наличии у нее психического заболевания или временного расстройства психической деятельности, которые не позволяли ей руководить своими действиями и давать отчет им, не установлено. При кассационном рассмотрении дела  Хлебодарова  Т.И. заявила, что необходимо было более тщательно проверить ее психическое состояние. При этом она подтвердила, что каких-либо отклонений в психической деятельности у нее не наблюдалось, на учете у психиатра она не состояла. Как она пояснила в кассационной инстанции, \"она просто так считала, что нужно проверить ее психическое состояние в  г . <...>\". С учетом выводов амбулаторной судебно-психиатрической экспертизы и данных о личности осужденной, судебная коллегия доводы осужденной о назначении и проведении стационарной судебно-психиатрической экспертизы находит несостоятельными. Наказание назначено с учетом характера и степени общественной опасности содеянного, данных о личности осужденной и смягчающих обстоятельств. Оснований к его смягчению судебная коллегия не находит. Вопрос о признании имеющейся в материалах дела явки с повинной  Хлебодаровой  Т.И. смягчающим наказание обстоятельством судом обсуждался. Судом установлено, что правоохранительным органам было известно о мотиве, обстоятельствах и участниках (в том числе и о причастности  Хлебодаровой  Т.И.) к совершению преступления. Сама она в органы милиции не являлась, о совершенном преступлении не заявляла, она лишь созналась в своей причастности к совершению преступления после своего задержания. При таких обстоятельствах вывод суда о непризнании явки с повинной в качестве смягчающего наказание обстоятельства следует признать правильным. Руководствуясь ст. ст. 377, 378 и 388 УПК РФ, судебная коллегия определила: приговор Амурского областного суда от 4 декабря 2009 года в отношении  Хлебодаровой  Т.И. оставить без изменения, а кассационные жалобы - без удовлетворения.']"
      ]
     },
     "execution_count": 449,
     "metadata": {},
     "output_type": "execute_result"
    }
   ],
   "source": [
    "search('владеть', 'word2vec')"
   ]
  },
  {
   "cell_type": "code",
   "execution_count": 450,
   "metadata": {},
   "outputs": [
    {
     "data": {
      "text/plain": [
       "['ВЕРХОВНЫЙ СУД РОССИЙСКОЙ ФЕДЕРАЦИИ\\nОПРЕДЕЛЕНИЕ\\nот 14 апреля 2003 г. N 15-Д03-3\\n\\nПредседательствующий: Тарасов А.В. Судебная коллегия по уголовным делам Верховного Суда Российской Федерации в составе: председательствующего Свиридова Ю.А. судей Яковлева В.К.,  Колышкина  В.И. рассмотрела в судебном заседании от 14 апреля 2003 года надзорную жалобу осужденного К. на приговор Верховного Суда Республики Мордовия от 7 сентября 2001 года, которым К., <...>, ранее не судимый, - осужден по ст. 105 ч. 2 п. \"в\" УК РФ к лишению свободы на 12 лет в исправительной колонии строгого режима. Ш., <...>, ранее не судимая, - осуждена по ст. 33 ч. ч. 4, 5, 105 ч. 2 п. \"в\" УК РФ, с применением ст. 64 УК РФ, на 5 лет лишения свободы условно, с испытательным сроком на 5 лет на основании ст. 73 УК РФ. В кассационном порядке дело не рассматривалось. В отношении Ш. дело рассматривается в порядке ст. 410 УПК РФ. Заслушав доклад судьи Яковлева В.К., мнение прокурора Архиповой Л.И., поддержавшей доводы надзорной жалобы осужденного К., судебная коллегия установила: по приговору суда Ш. признана виновной в том, что в силу сложившихся неприязненных взаимоотношений, решила совершить убийство своего мужа - Ш.А., о чем она попросила К. К. осужден за то, что 12 декабря 2000 года пришел в дом Ш.А. и когда последний, находившийся в состоянии алкогольного опьянения, спал, нанес ему топором не менее двух ударов по голове, причинив переломы лобной кости слева, левой теменной кости, переломы лобной кости справа, затылочной слева, левой височной с образованием костного дефекта;  в результате чего наступила смерть потерпевшего Ш.А. После этого Ш., с целью скрыть преступление, на ферме взяла лошадь и сани и вместе с К. погрузили труп Ш.А. и утопили в реке Мокша. В надзорной жалобе осужденный К. оспаривает приговор в части квалификации его действий по ст. 105 ч. 2 п. \"в\" УК РФ, при этом утверждает, что не имел умысла на убийство потерпевшего Ш.А., а действовал,  защищаясь от нападения последнего и просит о смягчении  ему наказания. Проверив материалы дела, обсудив доводы надзорной жалобы, судебная коллегия находит, что приговор подлежит изменению, а жалоба - частичному удовлетворению, по следующим основаниям. Вина Ш. и К. в содеянном установлена тщательно исследованными материалами дела, подробный анализ и оценка которым дана в приговоре. Доводы жалобы осужденного К. о том, что он причинил потерпевшему  смерть  защищаясь от самого потерпевшего, как видно из материалов дела, проверены, оценены судом в совокупности со всеми исследованными доказательствами и обоснованно признаны несостоятельными. Вместе с тем, признавая К. виновным в убийстве Ш.А., заведомо для него находящегося в беспомощном состоянии, а Ш. - в пособничестве и подстрекательстве в этом преступлении, суд мотивировал свое решение тем, что потерпевший находился в состоянии алкогольного опьянения и спал. Между тем, по смыслу закона по п. \"в\" ч. 2 ст. 105 УК РФ квалифицируется убийство потерпевшего, не способного защитить себя, оказать активное сопротивление виновному в силу физического или психического состояния. К лицам, находящимся в беспомощном состоянии, могут быть отнесены, в частности: тяжелобольные и престарелые, малолетние дети, лица, страдающие психическими расстройствами, лишающими их способности правильно воспринимать происходящее. То обстоятельство, что потерпевший Ш.А. в момент совершения преступления находился в состоянии алкогольного опьянения, не дает оснований считать его находившимся в беспомощном состоянии. Убийство спящего также нельзя отнести к беспомощному состоянию лица в том понимании, какое содержится в диспозиции п. \"в\" ч. 2 ст. 105 УК РФ, поскольку сон является жизненно необходимым и физиологически обусловленным состоянием человека. При таких обстоятельствах, действия К. и Ш. подлежат переквалификации, соответственно, на ст. 105 ч. 1 УК РФ и ст. 33 ч. ч. 4, 5, 105 ч. 1 УК РФ. С учетом внесенного изменения, следует К. и Ш. смягчить наказание. На основании изложенного, руководствуясь требованиями ст. ст. 407, 408 УПК РФ, судебная коллегия определила: приговор Верховного Суда Республики Мордовия от 7 сентября 2001 года в отношении К. и Ш. изменить: - переквалифицировать действия К. со ст. 105 ч. 2 п. \"в\" УК РФ на ст. 105 ч. 1 УК РФ назначив десять лет лишения свободы в исправительной колонии строгого режима. - переквалифицировать действия Ш. со ст. ст. 33 ч. ч. 4, 5, 105 ч. 2 п. \"в\" УК РФ на ст. ст. 33 ч. ч. 4, 5, 105 ч. 1 УК РФ назначив с применением ст. 64 УК РФ лишение свободы на четыре года условно, с испытательным сроком на пять лет на основании ст. 73 УК РФ. В остальном приговор оставить без изменения.',\n",
       " '\\n\\nСудья Высшего Арбитражного Суда Российской Федерации Борисова Е.Е., рассмотрев заявление администрации города Нальчика (г. Нальчик) от 03.06.2009 N 780 о пересмотре в порядке надзора решения Арбитражного суда Кабардино-Балкарской Республики от 26.09.2008 по делу N А20-1060/2008 и постановления Федерального арбитражного суда Северо-Кавказского округа от 03.04.2009 по тому же делу, установил: заявление о пересмотре судебных актов в порядке надзора подано с соблюдением требований, предусмотренных статьями 292, 294 Арбитражного процессуального кодекса Российской Федерации. Руководствуясь статьей 295 Арбитражного процессуального кодекса Российской Федерации, судья Высшего Арбитражного Суда Российской Федерации определил: 1. Принять заявление администрации города Нальчика (г. Нальчик) от 03.06.2009 N 780 о пересмотре в порядке надзора решения Арбитражного суда Кабардино-Балкарской Республики от 26.09.2008 по делу N А20-1060/2008 и постановления Федерального арбитражного суда Северо-Кавказского округа от 03.04.2009 по тому же делу и возбудить надзорное производство. 2. Направить настоящее определение администрации города Нальчика. Судья БОРИСОВА Е.Е.',\n",
       " '\\n\\nСудья Высшего Арбитражного Суда Российской Федерации Иванникова Н.П. рассмотрел ходатайство о восстановлении пропущенного срока и заявление арбитражного управляющего Акиньшина П.А. от 24.09.2009 без номера о пересмотре в порядке надзора определения Арбитражного суда Республики Алтай от 24.09.2008 по делу N А02-577/2005 и постановления Федерального арбитражного суда Западно-Сибирского округа от 02.02.2009 по тому же делу, установил: заявителем пропущен процессуальный срок на обжалование указанных судебных актов. В силу части 3 статьи 292 Арбитражного процессуального кодекса Российской Федерации (далее - Кодекс) заявление о пересмотре в порядке надзора судебных актов может быть подано в Высший Арбитражный Суд Российской Федерации в срок, не превышающий трех месяцев со дня вступления в законную силу последнего судебного акта, принятого по данному делу, если исчерпаны другие имеющиеся возможности для проверки в судебном порядке законности  указанного акта. Согласно части 4 статьи 292 Кодекса срок подачи заявления о пересмотре в порядке надзора судебного акта, пропущенный по причинам, не зависящим от лица, обратившегося с такими заявлением, в том числе в связи с отсутствием у него сведений об оспариваемом судебном акте, по ходатайству заявителя может быть восстановлен судьей Высшего Арбитражного Суда Российской Федерации при условии, что ходатайство подано не позднее  чем через шесть месяцев со дня вступления в законную силу последнего оспариваемого судебного акта. Арбитражный управляющий Акиньшин П.А. обратился с ходатайством о восстановлении пропущенного процессуального срока. В качестве причины пропуска срока заявитель указывает, что оспариваемое постановление суда кассационной инстанции заявителем не получено, а о принятии указанного судебного акта арбитражный управляющий узнал только 02.07.2009. Указанные причины пропуска процессуального срока уважительными не являются, поскольку заявление о взыскании с Межрайонной инспекции Федеральной налоговой службы N 5 по Республике Алтай вознаграждения за проведение процедуры ликвидации и кассационная жалоба на определение суда первой инстанции были поданы самим арбитражным управляющим Акиньшиным П.А., в заседание судов первой и кассационной инстанций заявитель не явился, представителей не направил.  Информация о слушании дела в суде кассационной инстанции и результаты рассмотрения жалобы были своевременно размещены на сайте суда, заявитель имел возможность с ней ознакомиться и получить оспариваемый судебный акт в установленном порядке, однако ей не воспользовался, надлежащих доказательств несвоевременного направления судом упомянутого постановления не представил. Кроме того, заявитель ссылается на то, что при рассмотрении в порядке надзора аналогичных дел установлена практика применения судами законодательства по вопросу определения вознаграждения ликвидаторам и источнике возмещения такого вознаграждения (постановление Президиума Высшего Арбитражного Суда Российской Федерации от 02.06.2009 N 1855/09). Данная причина пропуска процессуального срока уважительной не является. Таким образом, ходатайство о восстановлении пропущенного срока для подачи заявления пересмотре в порядке надзора судебного акта не подлежит удовлетворению, а заявление о пересмотре в порядке надзора оспариваемых судебных актов следует возвратить заявителю. Учитывая  изложенное  и руководствуясь статьей 296 Кодекса, судья Высшего Арбитражного Суда Российской Федерации определил: в удовлетворении ходатайства арбитражного управляющего Акиньшина П.А. о восстановлении пропущенного срока подачи заявления о пересмотре судебных актов порядке надзора отказать. Заявление арбитражного управляющего Акиньшина П.А. от 24.09.2009 без номера о пересмотре в порядке надзора определения Арбитражного суда Республики Алтай от 24.09.2008 по делу N А02-577/2005 и постановления Федерального арбитражного суда Западно-Сибирского округа от 02.02.2009 по тому же делу возвратить. Судья Н.П. ИВАННИКОВА',\n",
       " 'ВЕРХОВНЫЙ СУД РОССИЙСКОЙ ФЕДЕРАЦИИ\\nРЕШЕНИЕ\\nот 8 декабря 1999 г. N ГКПИ99-1014\\n\\nИменем Российской Федерации Верховный Суд Российской Федерации в составе: \\xa0\\xa0\\xa0  \\xa0\\xa0\\xa0  \\xa0\\xa0\\xa0\\xa0\\xa0\\xa0\\xa0\\xa0\\xa0\\xa0\\xa0\\xa0\\xa0\\xa0\\xa0\\xa0\\xa0\\xa0\\xa0\\xa0  Романенкова \\xa0\\xa0\\xa0  \\xa0\\xa0\\xa0\\xa0\\xa0\\xa0\\xa0\\xa0\\xa0\\xa0\\xa0\\xa0\\xa0\\xa0\\xa0\\xa0\\xa0\\xa0\\xa0\\xa0\\xa0\\xa0\\xa0\\xa0\\xa0\\xa0\\xa0\\xa0\\xa0\\xa0\\xa0\\xa0\\xa0  \\xa0\\xa0\\xa0  \\xa0\\xa0\\xa0\\xa0\\xa0\\xa0\\xa0\\xa0\\xa0\\xa0\\xa0\\xa0\\xa0\\xa0\\xa0\\xa0\\xa0\\xa0\\xa0\\xa0\\xa0\\xa0\\xa0\\xa0\\xa0\\xa0  рассмотрев в открытом судебном заседании гражданское дело по заявлению  Проходцева  Олега Викторовича о признании недействительным Приказа Министра обороны Российской Федерации от 2 сентября 1994 года N 300 \"О порядке реализации льгот по проезду и перевозкам личного имущества военнослужащих, граждан, уволенных с военной службы, и членов их семей\" и компенсации морального вреда, установил: Министр обороны Российской Федерации 2 сентября 1994 года издал Приказ N 300 \"О порядке реализации льгот по проезду и перевозкам личного имущества военнослужащих, граждан, уволенных с военной службы, и членов их семей\". Проходцев  О.В. обратился в Верховный Суд России с заявлением о признании недействительным данного Приказа и компенсации морального вреда в пределах разумности и справедливости. По мнению заявителя, оспариваемый Приказ противоречит \"Соглашению между государствами - участниками Содружества Независимых Государств о социальных и правовых гарантиях военнослужащих, лиц, уволенных с военной службы, и членов их семей\", заключенному Российской Федерацией 14 февраля 1992 года, Конституции Российской Федерации, имеется также решение Экономического Суда СНГ от 15 апреля 1999 года. Кроме того, данный Приказ не зарегистрирован в Минюсте России и не был официально опубликован для всеобщего сведения. Представители Минобороны России Рябчиков И.В.,  Анучкин  В.А.,  Кудиля  С.Н. возражали против удовлетворения заявления, т.к. Приказ издан в соответствии с Постановлением Правительства РФ от 6 июля 1994 года N 806 \"О некоторых вопросах реализации льгот по проезду и перевозкам личного имущества военнослужащих, граждан, уволенных с военной службы, и членов их семей, установленных Законом Российской Федерации \"О статусе  военнослужащих\" и практически дублирует данное Постановление. Ссылка  Проходцева  О.В. на решение Экономического Суда от 15 апреля 1999 года несостоятельна, т.к. решением установлено, что \"общее правило, сформулированное в Соглашении от 14 февраля 1992 года, исходит из принятых соответствующим государством на себя расходов на проезд военнослужащего в отпу ск в пр еделах этого конкретного государства. Поездки военнослужащих в отпуск за границу, в  т.ч . и в пределах территории бывшего Союза ССР, должны оплачиваться за счет личных средств военнослужащего\". Выслушав объяснения заявителя  Проходцева  О.В., представителей Минобороны России  Рябчикова  И.В.,  Анучкина  В.А.,  Кудиля  С.Н., исследовав материалы дела и заслушав заключение прокурора Генеральной прокуратуры РФ Федотовой А.В., полагавшей, что заявление подлежит удовлетворению в части признания недействительным оспариваемого акта, Верховный Суд РФ находит, что заявление о признании недействительным Приказа Министра обороны от 2 сентября 1994 года подлежит  удовлетворению, оснований для удовлетворения требований о компенсации морального вреда не имеется. Согласно ст. 13 ГК РФ нормативный акт, не соответствующий закону или иным правовым актам и нарушающий гражданские права и охраняемые законом интересы гражданина, может быть признан судом недействительным. Согласно ст. 20 Закона РФ \"О статусе военнослужащих\" от 22 января 1993 года N 4338-1, действовавшего на момент издания оспариваемого Приказа, военнослужащие имели право на бесплатный проезд на транспорте. Расходы, связанные с перевозкой, возмещаются за счет средств Минобороны России, в порядке, установленном Правительством РФ, и вне пределов Российской Федерации - в соответствии с международными договорами. Во исполнение Закона РФ \"О статусе военнослужащих\" Правительство РФ приняло 6 июля 1994 года Постановление N 806 \"О некоторых вопросах реализации льгот по проезду и перевозкам личного имущества военнослужащих, граждан, уволенных с военной службы, и членов их семей, установленных Законом Российской Федерации \"О статусе военнослужащих\". Данным нормативным актом признаны не действующими на территории Российской Федерации статьи 49, 52, 55, 56, 62 Постановления Совета Министров СССР от 17 февраля 1981 года N 193 \"Об утверждении Положения о льготах для военнослужащих, военнообязанных, лиц, уволенных с воинской службы в отставку, и их семей\". Приказ N 300 от 2 сентября 1994 года Министра обороны России предусматривает оплату проезда военнослужащих и иных категорий граждан только по территории Российской Федерации. Между тем, согласно ст. 1 \"Соглашения между государствами - участниками Содружества Независимых Государств о социальных и правовых гарантиях военнослужащих, лиц, уволенных с военной службы, и членов их семей\" от 14 февраля 1992 года за военнослужащими, лицами, уволенными с военной службы и проживающими на территории государств - участников Содружества, а также членами их семей сохраняется уровень прав и льгот, установленных ранее законами и  другими нормативными актами бывшего Союза ССР. Односторонние ограничения указанных прав и льгот военнослужащих, лиц, уволенных с военной службы, и членов их семей не допускаются. Международные договоры Российской Федерации наряду с общепризнанными принципами и нормами международного права являются в соответствии с Конституцией РФ составной частью ее правовой системы. Если международным договором Российской Федерации установлены иные правила, чем предусмотренные законом, то применяются правила международных договоров. Экономический Суд Содружества Независимых Государств 15 апреля 1999 года, рассмотрев дело по запросу Совета Министров обороны государств - участников СНГ, дал толкование статьи 1 \"Соглашения между государствами - участниками СНГ о социальных и правовых гарантиях военнослужащих, лиц, уволенных с военной службы, и членов их семей\" от 14 февраля 1992 года, согласно которому для лиц, состоявших на день подписания Соглашения на военной службе , а также членов их семей продолжают действовать нормы законодательства бывшего Союза ССР в части возмещения затрат на проезд к месту проведения отпуска в пределах территории бывшего Союза ССР. Федеральный закон \"О статусе военнослужащих\" от 27 мая 1998 года N 76-ФЗ сохраняет за военнослужащими право на бесплатный проезд, устанавливая, что расходы, связанные с перевозкой военнослужащих, граждан, уволенных с военной службы, членов их семей железнодорожным, воздушным, водным и автомобильным транспортом, возмещаются за счет средств Министерства обороны РФ в порядке, определяемом Правительством РФ. В связи с тем, что военнослужащие и иные категории граждан имеют право на оплату расходов на поездку в отпуск из одного государства - участника Содружества Независимых Госуда рств в др угое государство - участник, оспариваемый Приказ не соответствует действующему законодательству Российской Федерации. Из объяснений представителей заинтересованного ведомства также следует, что 8 октября 1999 года Совет глав правительств Содружества Независимых Государств принял решение об одобрении проекта Протокола к Соглашению от 14 февраля 1992 года, в соответствии со ст. 5 которого гарантировано право военнослужащих и членов их семей на бесплатный проезд железнодорожным, воздушным, водным и автомобильным (за исключением такси) транспортом по территории государств Содружества  при следовании в связи с переводом на новое место военной службы, один раз в год к местам использования отпуска и обратно, на избранное при увольнении с военной службы постоянное место жительства. Учитывая, что оспариваемый нормативный акт касается льгот по проезду военнослужащих, не имеется правовых оснований для удовлетворения заявленных требований о компенсации морального вреда. На основании  изложенного  и руководствуясь ст. ст. 191, 192, 197, 239.7 ГПК РСФСР, Верховный Суд Российской Федерации решил: заявление  Проходцева  Олега Викторовича о признании недействительным Приказа Министра обороны РФ от 2 сентября 1994 года N 300 и компенсации морального вреда удовлетворить частично: признать недействительным Приказ Министра обороны Российской Федерации от 2 сентября 1994 года N 300 \"О порядке реализации льгот по проезду и перевозкам личного имущества военнослужащих, граждан, уволенных с военной службы, и членов их семей\". Заявленные требования о компенсации морального вреда оставить без удовлетворения. Взыскать с Министерства обороны РФ в пользу  Проходцева  О.В. расходы по госпошлине в размере 12 рублей 50 коп. Решение может быть обжаловано или опротестовано в кассационную коллегию Верховного Суда Российской Федерации в течение десяти дней после вынесения судом решения в окончательной форме. Председательствующий - судья Н.С.РОМАНЕНКОВ',\n",
       " 'ВЕРХОВНЫЙ СУД РОССИЙСКОЙ ФЕДЕРАЦИИ\\nПОСТАНОВЛЕНИЕ\\nот 24 апреля 2009 г. N 72-АД09-2\\n\\nЗаместитель Председателя Верховного Суда Российской Федерации Соловьев В.Н., рассмотрев жалобу О. на постановление мирового судьи судебного участка N 38  Борзинского  района Читинской области от 24 сентября 2008 года, решение судьи  Борзинского  городского суда Читинской области от 10 октября 2008 года и постановление заместителя председателя Читинского областного суда от 12 декабря 2008 года, вынесенные в отношении О. по делу об  административном  правонарушении , предусмотренном ч. 1 ст. 12.26 Кодекса Российской Федерации об административных правонарушениях, установил: постановлением мирового судьи судебного участка N 38  Борзинского  района Читинской области от 24 сентября 2008 года, оставленным без изменения решением судьи  Борзинского  городского суда Читинской области от 10 октября 2008 года, О. признан виновным в совершении административного правонарушения, ответственность за которое предусмотрена ч. 1 ст. 12.26 Кодекса Российской Федерации об административных правонарушениях и подвергнут административному наказанию в виде лишения права  управления транспортными средствами сроком на 1 год 6 месяцев. Постановлением заместителя председателя Читинского областного суда от 12 декабря 2008 года жалоба О. на указанные судебные постановления оставлена без удовлетворения. В жалобе, поданной в Верховный Суд Российской Федерации, О. просит об отмене состоявшихся по делу об административном правонарушении судебных постановлений, считая их незаконными. Ознакомившись с доводами жалобы, изучив материалы дела об административном правонарушении, оснований для удовлетворения жалобы О. не нахожу в связи со следующими обстоятельствами. В соответствии с ч. 1 ст. 12.26 Кодекса Российской Федерации об административных правонарушениях административным правонарушением признается невыполнение водителем законного требования сотрудника милиции о прохождении медицинского освидетельствования на состояние опьянения. Из материалов дела об административном правонарушении усматривается, что 25 августа 2008 года О., управляя транспортным средством, не выполнил законное требование сотрудника милиции о прохождении медицинского освидетельствования на состояние опьянения. Указанные обстоятельства подтверждаются собранными по делу об административном правонарушении доказательствами: протоколом об административном правонарушении ( л.д . 4), протоколом о направлении на медицинское освидетельствование ( л.д . 6), протоколом об отстранении от управления транспортным средством ( л.д . 5), оцененными мировым судьей в совокупности с другими материалами дела по правилам ст. 26.11 Кодекса Российской Федерации об административных правонарушениях. Довод жалобы о том, что в отношении О. был нарушен порядок направления на медицинское освидетельствование на состояние опьянения, повлечь отмену состоявшихся по делу об административном правонарушении судебных постановлений не может. О. от прохождения медицинского освидетельствования на состояние опьянения отказался, собственноручно зафиксировав свой отказ в протоколе об административном правонарушении ( л.д . 4). Утверждение в жалобе о том, что О. был лишен возможности воспользоваться услугами переводчика, являются несостоятельным, поскольку О. ходатайства о предоставлении ему переводчика не заявлял, кроме того, при рассмотрении дела мировым судьей О. давал объяснения по делу на русском языке. Совершенное О. административное правонарушение было квалифицировано в соответствии с установленными обстоятельствами и требованиями Кодекса Российской Федерации об административных правонарушениях. Административное наказание назначено О. в пределах, установленных санкцией ч. 1 ст. 12.26 Кодекса Российской Федерации об административных правонарушениях. На основании изложенного, руководствуясь ст. ст. 30.13, 30.17 Кодекса Российской Федерации об административных правонарушениях, постановил: постановление мирового судьи судебного участка N 38  Борзинского  района Читинской области от 24 сентября 2008 года, решение судьи  Борзинского  городского суда Читинской области от 10 октября 2008 года и постановление заместителя председателя Читинского областного суда от 12 декабря 2008 года, вынесенные в отношении О. по делу об административном правонарушении, предусмотренном ч. 1 ст. 12.26 Кодекса Российской Федерации об административных правонарушениях , оставить без изменения, жалобу О. - без удовлетворения. Заместитель Председателя Верховного Суда Российской Федерации В.Н.СОЛОВЬЕВ']"
      ]
     },
     "execution_count": 450,
     "metadata": {},
     "output_type": "execute_result"
    }
   ],
   "source": [
    "search('владеть', 'doc2vec')"
   ]
  },
  {
   "cell_type": "code",
   "execution_count": null,
   "metadata": {
    "collapsed": true
   },
   "outputs": [],
   "source": []
  }
 ],
 "metadata": {
  "kernelspec": {
   "display_name": "Python 3",
   "language": "python",
   "name": "python3"
  },
  "language_info": {
   "codemirror_mode": {
    "name": "ipython",
    "version": 3
   },
   "file_extension": ".py",
   "mimetype": "text/x-python",
   "name": "python",
   "nbconvert_exporter": "python",
   "pygments_lexer": "ipython3",
   "version": "3.6.3"
  }
 },
 "nbformat": 4,
 "nbformat_minor": 2
}
