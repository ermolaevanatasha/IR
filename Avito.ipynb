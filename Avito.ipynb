{
 "cells": [
  {
   "cell_type": "code",
   "execution_count": 48,
   "metadata": {
    "collapsed": true
   },
   "outputs": [],
   "source": [
    "import urllib.request\n",
    "import random\n",
    "import time\n",
    "from urllib.error import URLError, HTTPError\n",
    "from bs4 import BeautifulSoup\n",
    "from tqdm import tqdm_notebook as tqdm\n",
    "import os"
   ]
  },
  {
   "cell_type": "code",
   "execution_count": 49,
   "metadata": {
    "collapsed": true
   },
   "outputs": [],
   "source": [
    "t = random.uniform(0, 7)"
   ]
  },
  {
   "cell_type": "code",
   "execution_count": 50,
   "metadata": {
    "collapsed": true
   },
   "outputs": [],
   "source": [
    "def get_page_html(page_url):\n",
    "    try:\n",
    "        with urllib.request.urlopen(page_url) as response:\n",
    "            html = response.read().decode('utf-8')\n",
    "            soup = BeautifulSoup(html, 'html.parser')\n",
    "    \n",
    "    except HTTPError as e:\n",
    "        print('Error code: ', e.code)\n",
    "        pass\n",
    "    except URLError as e:\n",
    "        print('Reason: ', e.reason)\n",
    "        pass\n",
    "    \n",
    "    return soup"
   ]
  },
  {
   "cell_type": "code",
   "execution_count": 51,
   "metadata": {
    "collapsed": true
   },
   "outputs": [],
   "source": [
    "def get_data(soup, page_url):\n",
    "    title = soup.find('span', attrs={'class':'title-info-title-text'})\n",
    "    if title:\n",
    "        adv_title = title.text.strip()\n",
    "    else:\n",
    "        adv_title = None\n",
    "    \n",
    "    date = soup.find('div', attrs={'class':'title-info-metadata-item'})\n",
    "    if date:\n",
    "        adv_date = date.text.strip()\n",
    "    else:\n",
    "        adv_date = None\n",
    "    \n",
    "    price = soup.find('span', attrs={'class':'price-value-string js-price-value-string'})\n",
    "    if price:\n",
    "        adv_price = price.text.strip()\n",
    "    else:\n",
    "        adv_price = None\n",
    "    \n",
    "    address = soup.find('span', attrs={'class':'item-map-address'})\n",
    "    if address:\n",
    "        adv_address = address.text.strip()\n",
    "    else:\n",
    "        adv_address = None\n",
    "    \n",
    "    main_text = soup.find('div', attrs={'class':'item-description-text'})\n",
    "    if main_text:\n",
    "        adv_text = main_text.text.strip()\n",
    "    else:\n",
    "        adv_text = None\n",
    "    \n",
    "    adv_data = str()\n",
    "    \n",
    "    adv_data = 'Title: ' + str(adv_title) + '\\n' + 'Date: ' + str(adv_date) + '\\n' + \\\n",
    "                'Price: ' + str(adv_price) + '\\n' + 'Address: ' + str(adv_address) + '\\n' + str(adv_text)\n",
    "    \n",
    "    return adv_data"
   ]
  },
  {
   "cell_type": "code",
   "execution_count": 52,
   "metadata": {
    "collapsed": true
   },
   "outputs": [],
   "source": [
    "def write_data(adv_data, filename):\n",
    "    if not os.path.exists('Avito'):\n",
    "        os.makedirs('Avito')\n",
    "    filename = filename.replace('/', '\\\\')\n",
    "    with open('Avito' + os.sep + filename + '.txt', 'w', encoding='utf-8') as f:\n",
    "        f.write(adv_data)"
   ]
  },
  {
   "cell_type": "code",
   "execution_count": null,
   "metadata": {},
   "outputs": [],
   "source": [
    "for i in tqdm(range(1, 101)):\n",
    "    time.sleep(t)\n",
    "    common_url = 'https://www.avito.ru/moskva/igry_pristavki_i_programmy?p=%s&view=list' % (i)\n",
    "    page_soup = get_page_html(common_url)\n",
    "    advs = page_soup.find_all('a', attrs={'class':'description-title-link'})\n",
    "    advs_links = ['https://www.avito.ru' + link['href'] for link in advs]\n",
    "    time.sleep(t)\n",
    "    for adv_link in advs_links:\n",
    "        adv_soup = get_page_html(adv_link)\n",
    "        adv_data = get_data(adv_soup, adv_link)\n",
    "        write_data(adv_data, adv_link)\n",
    "#         time.sleep(t)"
   ]
  },
  {
   "cell_type": "code",
   "execution_count": 57,
   "metadata": {
    "collapsed": true
   },
   "outputs": [],
   "source": [
    "paths = (os.path.join(root, filename)\n",
    "        for root, _, filenames in os.walk('Avito')\n",
    "        for filename in filenames)\n",
    "\n",
    "for path in paths:\n",
    "    newname = path.replace('\\w', 'w')\n",
    "    if newname != path:\n",
    "        os.rename(path, newname)"
   ]
  }
 ],
 "metadata": {
  "kernelspec": {
   "display_name": "Python 3",
   "language": "python",
   "name": "python3"
  },
  "language_info": {
   "codemirror_mode": {
    "name": "ipython",
    "version": 3
   },
   "file_extension": ".py",
   "mimetype": "text/x-python",
   "name": "python",
   "nbconvert_exporter": "python",
   "pygments_lexer": "ipython3",
   "version": "3.6.3"
  }
 },
 "nbformat": 4,
 "nbformat_minor": 2
}
